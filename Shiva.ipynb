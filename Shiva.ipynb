{
 "cells": [
  {
   "cell_type": "code",
   "execution_count": 423,
   "metadata": {},
   "outputs": [],
   "source": [
    "import pandas as pd\n",
    "import numpy as np\n",
    "import matplotlib.pyplot as plt\n",
    "import seaborn as sns\n",
    "pd.set_option('display.max_columns', 50)\n",
    "pd.set_option('display.max_rows', 50)"
   ]
  },
  {
   "cell_type": "code",
   "execution_count": 424,
   "metadata": {},
   "outputs": [
    {
     "name": "stderr",
     "output_type": "stream",
     "text": [
      "D:\\Programs\\Continuum\\anaconda3\\lib\\site-packages\\IPython\\core\\interactiveshell.py:3058: DtypeWarning: Columns (47) have mixed types. Specify dtype option on import or set low_memory=False.\n",
      "  interactivity=interactivity, compiler=compiler, result=result)\n"
     ]
    }
   ],
   "source": [
    "df = pd.read_csv(\"loan.csv\",  encoding = \"ISO-8859-1\")"
   ]
  },
  {
   "cell_type": "code",
   "execution_count": 425,
   "metadata": {},
   "outputs": [
    {
     "data": {
      "text/plain": [
       "id                              0.0\n",
       "member_id                       0.0\n",
       "loan_amnt                       0.0\n",
       "funded_amnt                     0.0\n",
       "funded_amnt_inv                 0.0\n",
       "                              ...  \n",
       "tax_liens                       0.1\n",
       "tot_hi_cred_lim               100.0\n",
       "total_bal_ex_mort             100.0\n",
       "total_bc_limit                100.0\n",
       "total_il_high_credit_limit    100.0\n",
       "Length: 111, dtype: float64"
      ]
     },
     "execution_count": 425,
     "metadata": {},
     "output_type": "execute_result"
    }
   ],
   "source": [
    "round(100*(df.isnull().sum()/len(df.index)), 2)"
   ]
  },
  {
   "cell_type": "code",
   "execution_count": 426,
   "metadata": {},
   "outputs": [],
   "source": [
    "# removing all columns where all elements are null (https://pandas.pydata.org/pandas-docs/stable/reference/api/pandas.DataFrame.dropna.html)\n",
    "df.dropna(axis=1, how='all', inplace=True)"
   ]
  },
  {
   "cell_type": "code",
   "execution_count": 427,
   "metadata": {},
   "outputs": [
    {
     "data": {
      "text/plain": [
       "id                          0.00\n",
       "member_id                   0.00\n",
       "loan_amnt                   0.00\n",
       "funded_amnt                 0.00\n",
       "funded_amnt_inv             0.00\n",
       "                            ... \n",
       "acc_now_delinq              0.00\n",
       "chargeoff_within_12_mths    0.14\n",
       "delinq_amnt                 0.00\n",
       "pub_rec_bankruptcies        1.75\n",
       "tax_liens                   0.10\n",
       "Length: 57, dtype: float64"
      ]
     },
     "execution_count": 427,
     "metadata": {},
     "output_type": "execute_result"
    }
   ],
   "source": [
    "round(100*(df.isnull().sum()/len(df.index)), 2)"
   ]
  },
  {
   "cell_type": "code",
   "execution_count": 428,
   "metadata": {},
   "outputs": [
    {
     "data": {
      "text/plain": [
       "0        False\n",
       "1        False\n",
       "2        False\n",
       "3        False\n",
       "4        False\n",
       "         ...  \n",
       "39712    False\n",
       "39713    False\n",
       "39714    False\n",
       "39715    False\n",
       "39716    False\n",
       "Length: 39717, dtype: bool"
      ]
     },
     "execution_count": 428,
     "metadata": {},
     "output_type": "execute_result"
    }
   ],
   "source": [
    "# rows having all missing values\n",
    "df.isnull().all(axis=1)"
   ]
  },
  {
   "cell_type": "code",
   "execution_count": 429,
   "metadata": {},
   "outputs": [],
   "source": [
    "df.dropna(how='all', inplace=True)"
   ]
  },
  {
   "cell_type": "code",
   "execution_count": 430,
   "metadata": {},
   "outputs": [
    {
     "data": {
      "text/plain": [
       "0        False\n",
       "1        False\n",
       "2        False\n",
       "3        False\n",
       "4        False\n",
       "         ...  \n",
       "39712    False\n",
       "39713    False\n",
       "39714    False\n",
       "39715    False\n",
       "39716    False\n",
       "Length: 39717, dtype: bool"
      ]
     },
     "execution_count": 430,
     "metadata": {},
     "output_type": "execute_result"
    }
   ],
   "source": [
    "df.isnull().all(axis=1)"
   ]
  },
  {
   "cell_type": "code",
   "execution_count": 431,
   "metadata": {},
   "outputs": [
    {
     "data": {
      "text/plain": [
       "id                            0.00\n",
       "member_id                     0.00\n",
       "loan_amnt                     0.00\n",
       "funded_amnt                   0.00\n",
       "funded_amnt_inv               0.32\n",
       "                             ...  \n",
       "acc_now_delinq              100.00\n",
       "chargeoff_within_12_mths     99.86\n",
       "delinq_amnt                 100.00\n",
       "pub_rec_bankruptcies         94.01\n",
       "tax_liens                    99.90\n",
       "Length: 57, dtype: float64"
      ]
     },
     "execution_count": 431,
     "metadata": {},
     "output_type": "execute_result"
    }
   ],
   "source": [
    "# checking the percetage of zeros in each column\n",
    "round(100*(df.eq(0).sum()/len(df.index)), 2)"
   ]
  },
  {
   "cell_type": "code",
   "execution_count": 432,
   "metadata": {},
   "outputs": [],
   "source": [
    "# removing the columns that have majorly zero\n",
    "df = df.drop('tax_liens', axis=1)\n",
    "df = df.drop('delinq_amnt', axis=1)\n",
    "df = df.drop('pub_rec_bankruptcies', axis=1)\n",
    "df = df.drop('chargeoff_within_12_mths', axis = 1)\n",
    "df = df.drop('acc_now_delinq', axis = 1)\n",
    "df = df.drop('collections_12_mths_ex_med', axis = 1)\n",
    "df = df.drop('collection_recovery_fee', axis = 1)\n",
    "df = df.drop('recoveries', axis = 1)\n",
    "df = df.drop('total_rec_late_fee', axis = 1)\n",
    "df = df.drop('out_prncp_inv', axis = 1)\n",
    "df = df.drop('out_prncp', axis = 1)\n",
    "df = df.drop('pub_rec', axis = 1)\n",
    "df = df.drop('delinq_2yrs', axis = 1)"
   ]
  },
  {
   "cell_type": "code",
   "execution_count": 433,
   "metadata": {},
   "outputs": [
    {
     "data": {
      "text/plain": [
       "id                         0.00\n",
       "member_id                  0.00\n",
       "loan_amnt                  0.00\n",
       "funded_amnt                0.00\n",
       "funded_amnt_inv            0.32\n",
       "term                       0.00\n",
       "int_rate                   0.00\n",
       "installment                0.00\n",
       "grade                      0.00\n",
       "sub_grade                  0.00\n",
       "emp_title                  0.00\n",
       "emp_length                 0.00\n",
       "home_ownership             0.00\n",
       "annual_inc                 0.00\n",
       "verification_status        0.00\n",
       "issue_d                    0.00\n",
       "loan_status                0.00\n",
       "pymnt_plan                 0.00\n",
       "url                        0.00\n",
       "desc                       0.00\n",
       "purpose                    0.00\n",
       "title                      0.00\n",
       "zip_code                   0.00\n",
       "addr_state                 0.00\n",
       "dti                        0.46\n",
       "earliest_cr_line           0.00\n",
       "inq_last_6mths            48.59\n",
       "mths_since_last_delinq     1.12\n",
       "mths_since_last_record     1.69\n",
       "open_acc                   0.00\n",
       "revol_bal                  2.50\n",
       "revol_util                 0.00\n",
       "total_acc                  0.00\n",
       "initial_list_status        0.00\n",
       "total_pymnt                0.04\n",
       "total_pymnt_inv            0.42\n",
       "total_rec_prncp            0.19\n",
       "total_rec_int              0.18\n",
       "last_pymnt_d               0.00\n",
       "last_pymnt_amnt            0.19\n",
       "next_pymnt_d               0.00\n",
       "last_credit_pull_d         0.00\n",
       "policy_code                0.00\n",
       "application_type           0.00\n",
       "dtype: float64"
      ]
     },
     "execution_count": 433,
     "metadata": {},
     "output_type": "execute_result"
    }
   ],
   "source": [
    "round(100*(df.eq(0).sum()/len(df.index)), 2)"
   ]
  },
  {
   "cell_type": "code",
   "execution_count": 434,
   "metadata": {},
   "outputs": [],
   "source": [
    "# removing columns that seem unnecessary\n",
    "df = df.drop('emp_title', axis=1)\n",
    "df = df.drop('url', axis=1)\n",
    "df = df.drop('desc', axis=1)\n",
    "df = df.drop('title', axis = 1)\n",
    "df = df.drop('zip_code', axis = 1)\n",
    "\n",
    "# reconsider\n",
    "#df = df.drop('inq_last_6mths', axis = 1)\n",
    "\n",
    "df = df.drop('mths_since_last_delinq', axis = 1)\n",
    "df = df.drop('mths_since_last_record', axis = 1)\n",
    "df = df.drop('initial_list_status', axis = 1)\n",
    "df = df.drop('open_acc', axis=1)\n",
    "df = df.drop('total_acc', axis=1)\n",
    "df = df.drop('total_pymnt', axis=1)\n",
    "df = df.drop('total_rec_prncp', axis=1)\n",
    "df = df.drop('total_rec_int', axis=1)\n",
    "df = df.drop('last_pymnt_amnt', axis=1)\n",
    "df = df.drop('last_credit_pull_d', axis=1)\n",
    "df = df.drop('total_pymnt_inv', axis=1)\n",
    "df = df.drop('installment', axis=1)"
   ]
  },
  {
   "cell_type": "code",
   "execution_count": 435,
   "metadata": {},
   "outputs": [
    {
     "data": {
      "text/plain": [
       "id                      0.00\n",
       "member_id               0.00\n",
       "loan_amnt               0.00\n",
       "funded_amnt             0.00\n",
       "funded_amnt_inv         0.32\n",
       "term                    0.00\n",
       "int_rate                0.00\n",
       "grade                   0.00\n",
       "sub_grade               0.00\n",
       "emp_length              0.00\n",
       "home_ownership          0.00\n",
       "annual_inc              0.00\n",
       "verification_status     0.00\n",
       "issue_d                 0.00\n",
       "loan_status             0.00\n",
       "pymnt_plan              0.00\n",
       "purpose                 0.00\n",
       "addr_state              0.00\n",
       "dti                     0.46\n",
       "earliest_cr_line        0.00\n",
       "inq_last_6mths         48.59\n",
       "revol_bal               2.50\n",
       "revol_util              0.00\n",
       "last_pymnt_d            0.00\n",
       "next_pymnt_d            0.00\n",
       "policy_code             0.00\n",
       "application_type        0.00\n",
       "dtype: float64"
      ]
     },
     "execution_count": 435,
     "metadata": {},
     "output_type": "execute_result"
    }
   ],
   "source": [
    "round(100*(df.eq(0).sum()/len(df.index)), 2)"
   ]
  },
  {
   "cell_type": "code",
   "execution_count": 436,
   "metadata": {},
   "outputs": [
    {
     "data": {
      "text/plain": [
       "id                      0.00\n",
       "member_id               0.00\n",
       "loan_amnt               0.00\n",
       "funded_amnt             0.00\n",
       "funded_amnt_inv         0.00\n",
       "term                    0.00\n",
       "int_rate                0.00\n",
       "grade                   0.00\n",
       "sub_grade               0.00\n",
       "emp_length              2.71\n",
       "home_ownership          0.00\n",
       "annual_inc              0.00\n",
       "verification_status     0.00\n",
       "issue_d                 0.00\n",
       "loan_status             0.00\n",
       "pymnt_plan              0.00\n",
       "purpose                 0.00\n",
       "addr_state              0.00\n",
       "dti                     0.00\n",
       "earliest_cr_line        0.00\n",
       "inq_last_6mths          0.00\n",
       "revol_bal               0.00\n",
       "revol_util              0.13\n",
       "last_pymnt_d            0.18\n",
       "next_pymnt_d           97.13\n",
       "policy_code             0.00\n",
       "application_type        0.00\n",
       "dtype: float64"
      ]
     },
     "execution_count": 436,
     "metadata": {},
     "output_type": "execute_result"
    }
   ],
   "source": [
    "round(100*(df.isnull().sum()/len(df.index)), 2)"
   ]
  },
  {
   "cell_type": "code",
   "execution_count": 437,
   "metadata": {},
   "outputs": [],
   "source": [
    "# next_pymnt_d has more than 97% null values, removing the column\n",
    "df = df.drop('next_pymnt_d', axis=1)"
   ]
  },
  {
   "cell_type": "code",
   "execution_count": 438,
   "metadata": {},
   "outputs": [],
   "source": [
    "# this column has same value for the rows, doesn't add any value to our analysis\n",
    "df = df.drop('pymnt_plan', axis=1)"
   ]
  },
  {
   "cell_type": "code",
   "execution_count": 439,
   "metadata": {},
   "outputs": [],
   "source": [
    "# this column has same value for the rows, doesn't add any value to our analysis\n",
    "df = df.drop('application_type', axis=1)"
   ]
  },
  {
   "cell_type": "code",
   "execution_count": 440,
   "metadata": {},
   "outputs": [
    {
     "data": {
      "text/plain": [
       "0.9815782188237627"
      ]
     },
     "execution_count": 440,
     "metadata": {},
     "output_type": "execute_result"
    }
   ],
   "source": [
    "# Columns loan_amnt and fund_amnt seem to have similar set of values. It it's highly correlated, we can remove one of the columns\n",
    "df[\"loan_amnt\"].corr(df[\"funded_amnt\"])"
   ]
  },
  {
   "cell_type": "code",
   "execution_count": 441,
   "metadata": {},
   "outputs": [],
   "source": [
    "# Removing funded_amnt\n",
    "df = df.drop('funded_amnt', axis=1)"
   ]
  },
  {
   "cell_type": "code",
   "execution_count": 442,
   "metadata": {},
   "outputs": [
    {
     "data": {
      "text/plain": [
       "0.9400335348163549"
      ]
     },
     "execution_count": 442,
     "metadata": {},
     "output_type": "execute_result"
    }
   ],
   "source": [
    "# Even funded_amnt_inv is also hihgly correlated with load_amnt, removing funded_amnt_inv also\n",
    "df[\"loan_amnt\"].corr(df[\"funded_amnt_inv\"])\n"
   ]
  },
  {
   "cell_type": "code",
   "execution_count": 443,
   "metadata": {},
   "outputs": [],
   "source": [
    "df = df.drop('funded_amnt_inv', axis=1)"
   ]
  },
  {
   "cell_type": "code",
   "execution_count": 444,
   "metadata": {},
   "outputs": [],
   "source": [
    "# just to visualise the cleaned data in excel\n",
    "df.to_csv(\"cleaned.csv\")"
   ]
  },
  {
   "cell_type": "code",
   "execution_count": 445,
   "metadata": {},
   "outputs": [],
   "source": [
    "# removing unnecessary symbols and texts\n",
    "df['int_rate'] = df['int_rate'].str.replace('\\%','')"
   ]
  },
  {
   "cell_type": "code",
   "execution_count": 446,
   "metadata": {},
   "outputs": [],
   "source": [
    "df['revol_util'] = df['revol_util'].str.replace('\\%','').astype(float)"
   ]
  },
  {
   "cell_type": "code",
   "execution_count": 447,
   "metadata": {},
   "outputs": [],
   "source": [
    "df['term'] = df['term'].str.replace('months','')"
   ]
  },
  {
   "cell_type": "code",
   "execution_count": 448,
   "metadata": {},
   "outputs": [],
   "source": [
    "df['emp_length'] = df['emp_length'].str.replace('\\+ years','')\n",
    "df['emp_length'] = df['emp_length'].str.replace('years','')\n",
    "df['emp_length'] = df['emp_length'].str.replace('<','')\n",
    "df['emp_length'] = df['emp_length'].str.replace('year','')"
   ]
  },
  {
   "cell_type": "code",
   "execution_count": 449,
   "metadata": {},
   "outputs": [],
   "source": [
    "df[\"int_rate\"] = df[\"int_rate\"].astype(float)"
   ]
  },
  {
   "cell_type": "code",
   "execution_count": 450,
   "metadata": {},
   "outputs": [
    {
     "data": {
      "text/plain": [
       "0        Dec-11\n",
       "1        Dec-11\n",
       "2        Dec-11\n",
       "3        Dec-11\n",
       "4        Dec-11\n",
       "          ...  \n",
       "39712    Jul-07\n",
       "39713    Jul-07\n",
       "39714    Jul-07\n",
       "39715    Jul-07\n",
       "39716    Jun-07\n",
       "Name: issue_d, Length: 39717, dtype: object"
      ]
     },
     "execution_count": 450,
     "metadata": {},
     "output_type": "execute_result"
    }
   ],
   "source": [
    "df[\"issue_d\"]"
   ]
  },
  {
   "cell_type": "code",
   "execution_count": 451,
   "metadata": {},
   "outputs": [],
   "source": [
    "# I don't think int_rate and installment provide any distinct insight, so removing the installment\n",
    "#df = df.drop('installment', axis=1)"
   ]
  },
  {
   "cell_type": "code",
   "execution_count": 452,
   "metadata": {},
   "outputs": [],
   "source": [
    "# policy code is not required\n",
    "df = df.drop('policy_code', axis=1)"
   ]
  },
  {
   "cell_type": "code",
   "execution_count": 453,
   "metadata": {},
   "outputs": [],
   "source": [
    "df['term'] = df['term'].str.replace('months','')"
   ]
  },
  {
   "cell_type": "code",
   "execution_count": 454,
   "metadata": {},
   "outputs": [],
   "source": [
    "df['issue_d'] = pd.to_datetime(df['issue_d'], format='%b-%y')"
   ]
  },
  {
   "cell_type": "code",
   "execution_count": 455,
   "metadata": {},
   "outputs": [],
   "source": [
    "df['earliest_cr_line'] = pd.to_datetime(df['earliest_cr_line'], format='%b-%y')"
   ]
  },
  {
   "cell_type": "code",
   "execution_count": 456,
   "metadata": {},
   "outputs": [],
   "source": [
    "df['last_pymnt_d'] = pd.to_datetime(df['last_pymnt_d'], format='%b-%y')"
   ]
  },
  {
   "cell_type": "code",
   "execution_count": 457,
   "metadata": {},
   "outputs": [
    {
     "data": {
      "text/html": [
       "<div>\n",
       "<style scoped>\n",
       "    .dataframe tbody tr th:only-of-type {\n",
       "        vertical-align: middle;\n",
       "    }\n",
       "\n",
       "    .dataframe tbody tr th {\n",
       "        vertical-align: top;\n",
       "    }\n",
       "\n",
       "    .dataframe thead th {\n",
       "        text-align: right;\n",
       "    }\n",
       "</style>\n",
       "<table border=\"1\" class=\"dataframe\">\n",
       "  <thead>\n",
       "    <tr style=\"text-align: right;\">\n",
       "      <th></th>\n",
       "      <th>id</th>\n",
       "      <th>member_id</th>\n",
       "      <th>loan_amnt</th>\n",
       "      <th>term</th>\n",
       "      <th>int_rate</th>\n",
       "      <th>grade</th>\n",
       "      <th>sub_grade</th>\n",
       "      <th>emp_length</th>\n",
       "      <th>home_ownership</th>\n",
       "      <th>annual_inc</th>\n",
       "      <th>verification_status</th>\n",
       "      <th>issue_d</th>\n",
       "      <th>loan_status</th>\n",
       "      <th>purpose</th>\n",
       "      <th>addr_state</th>\n",
       "      <th>dti</th>\n",
       "      <th>earliest_cr_line</th>\n",
       "      <th>inq_last_6mths</th>\n",
       "      <th>revol_bal</th>\n",
       "      <th>revol_util</th>\n",
       "      <th>last_pymnt_d</th>\n",
       "    </tr>\n",
       "  </thead>\n",
       "  <tbody>\n",
       "    <tr>\n",
       "      <td>0</td>\n",
       "      <td>1077501</td>\n",
       "      <td>1296599</td>\n",
       "      <td>5000</td>\n",
       "      <td>36</td>\n",
       "      <td>10.65</td>\n",
       "      <td>B</td>\n",
       "      <td>B2</td>\n",
       "      <td>10</td>\n",
       "      <td>RENT</td>\n",
       "      <td>24000.0</td>\n",
       "      <td>Verified</td>\n",
       "      <td>2011-12-01</td>\n",
       "      <td>Fully Paid</td>\n",
       "      <td>credit_card</td>\n",
       "      <td>AZ</td>\n",
       "      <td>27.65</td>\n",
       "      <td>1985-01-01</td>\n",
       "      <td>1</td>\n",
       "      <td>13648</td>\n",
       "      <td>83.7</td>\n",
       "      <td>2015-01-01</td>\n",
       "    </tr>\n",
       "    <tr>\n",
       "      <td>1</td>\n",
       "      <td>1077430</td>\n",
       "      <td>1314167</td>\n",
       "      <td>2500</td>\n",
       "      <td>60</td>\n",
       "      <td>15.27</td>\n",
       "      <td>C</td>\n",
       "      <td>C4</td>\n",
       "      <td>1</td>\n",
       "      <td>RENT</td>\n",
       "      <td>30000.0</td>\n",
       "      <td>Source Verified</td>\n",
       "      <td>2011-12-01</td>\n",
       "      <td>Charged Off</td>\n",
       "      <td>car</td>\n",
       "      <td>GA</td>\n",
       "      <td>1.00</td>\n",
       "      <td>1999-04-01</td>\n",
       "      <td>5</td>\n",
       "      <td>1687</td>\n",
       "      <td>9.4</td>\n",
       "      <td>2013-04-01</td>\n",
       "    </tr>\n",
       "    <tr>\n",
       "      <td>2</td>\n",
       "      <td>1077175</td>\n",
       "      <td>1313524</td>\n",
       "      <td>2400</td>\n",
       "      <td>36</td>\n",
       "      <td>15.96</td>\n",
       "      <td>C</td>\n",
       "      <td>C5</td>\n",
       "      <td>10</td>\n",
       "      <td>RENT</td>\n",
       "      <td>12252.0</td>\n",
       "      <td>Not Verified</td>\n",
       "      <td>2011-12-01</td>\n",
       "      <td>Fully Paid</td>\n",
       "      <td>small_business</td>\n",
       "      <td>IL</td>\n",
       "      <td>8.72</td>\n",
       "      <td>2001-11-01</td>\n",
       "      <td>2</td>\n",
       "      <td>2956</td>\n",
       "      <td>98.5</td>\n",
       "      <td>2014-06-01</td>\n",
       "    </tr>\n",
       "    <tr>\n",
       "      <td>3</td>\n",
       "      <td>1076863</td>\n",
       "      <td>1277178</td>\n",
       "      <td>10000</td>\n",
       "      <td>36</td>\n",
       "      <td>13.49</td>\n",
       "      <td>C</td>\n",
       "      <td>C1</td>\n",
       "      <td>10</td>\n",
       "      <td>RENT</td>\n",
       "      <td>49200.0</td>\n",
       "      <td>Source Verified</td>\n",
       "      <td>2011-12-01</td>\n",
       "      <td>Fully Paid</td>\n",
       "      <td>other</td>\n",
       "      <td>CA</td>\n",
       "      <td>20.00</td>\n",
       "      <td>1996-02-01</td>\n",
       "      <td>1</td>\n",
       "      <td>5598</td>\n",
       "      <td>21.0</td>\n",
       "      <td>2015-01-01</td>\n",
       "    </tr>\n",
       "    <tr>\n",
       "      <td>4</td>\n",
       "      <td>1075358</td>\n",
       "      <td>1311748</td>\n",
       "      <td>3000</td>\n",
       "      <td>60</td>\n",
       "      <td>12.69</td>\n",
       "      <td>B</td>\n",
       "      <td>B5</td>\n",
       "      <td>1</td>\n",
       "      <td>RENT</td>\n",
       "      <td>80000.0</td>\n",
       "      <td>Source Verified</td>\n",
       "      <td>2011-12-01</td>\n",
       "      <td>Current</td>\n",
       "      <td>other</td>\n",
       "      <td>OR</td>\n",
       "      <td>17.94</td>\n",
       "      <td>1996-01-01</td>\n",
       "      <td>0</td>\n",
       "      <td>27783</td>\n",
       "      <td>53.9</td>\n",
       "      <td>2016-05-01</td>\n",
       "    </tr>\n",
       "    <tr>\n",
       "      <td>...</td>\n",
       "      <td>...</td>\n",
       "      <td>...</td>\n",
       "      <td>...</td>\n",
       "      <td>...</td>\n",
       "      <td>...</td>\n",
       "      <td>...</td>\n",
       "      <td>...</td>\n",
       "      <td>...</td>\n",
       "      <td>...</td>\n",
       "      <td>...</td>\n",
       "      <td>...</td>\n",
       "      <td>...</td>\n",
       "      <td>...</td>\n",
       "      <td>...</td>\n",
       "      <td>...</td>\n",
       "      <td>...</td>\n",
       "      <td>...</td>\n",
       "      <td>...</td>\n",
       "      <td>...</td>\n",
       "      <td>...</td>\n",
       "      <td>...</td>\n",
       "    </tr>\n",
       "    <tr>\n",
       "      <td>39712</td>\n",
       "      <td>92187</td>\n",
       "      <td>92174</td>\n",
       "      <td>2500</td>\n",
       "      <td>36</td>\n",
       "      <td>8.07</td>\n",
       "      <td>A</td>\n",
       "      <td>A4</td>\n",
       "      <td>4</td>\n",
       "      <td>MORTGAGE</td>\n",
       "      <td>110000.0</td>\n",
       "      <td>Not Verified</td>\n",
       "      <td>2007-07-01</td>\n",
       "      <td>Fully Paid</td>\n",
       "      <td>home_improvement</td>\n",
       "      <td>CO</td>\n",
       "      <td>11.33</td>\n",
       "      <td>1990-11-01</td>\n",
       "      <td>0</td>\n",
       "      <td>7274</td>\n",
       "      <td>13.1</td>\n",
       "      <td>2010-07-01</td>\n",
       "    </tr>\n",
       "    <tr>\n",
       "      <td>39713</td>\n",
       "      <td>90665</td>\n",
       "      <td>90607</td>\n",
       "      <td>8500</td>\n",
       "      <td>36</td>\n",
       "      <td>10.28</td>\n",
       "      <td>C</td>\n",
       "      <td>C1</td>\n",
       "      <td>3</td>\n",
       "      <td>RENT</td>\n",
       "      <td>18000.0</td>\n",
       "      <td>Not Verified</td>\n",
       "      <td>2007-07-01</td>\n",
       "      <td>Fully Paid</td>\n",
       "      <td>credit_card</td>\n",
       "      <td>NC</td>\n",
       "      <td>6.40</td>\n",
       "      <td>1986-12-01</td>\n",
       "      <td>1</td>\n",
       "      <td>8847</td>\n",
       "      <td>26.9</td>\n",
       "      <td>2010-07-01</td>\n",
       "    </tr>\n",
       "    <tr>\n",
       "      <td>39714</td>\n",
       "      <td>90395</td>\n",
       "      <td>90390</td>\n",
       "      <td>5000</td>\n",
       "      <td>36</td>\n",
       "      <td>8.07</td>\n",
       "      <td>A</td>\n",
       "      <td>A4</td>\n",
       "      <td>1</td>\n",
       "      <td>MORTGAGE</td>\n",
       "      <td>100000.0</td>\n",
       "      <td>Not Verified</td>\n",
       "      <td>2007-07-01</td>\n",
       "      <td>Fully Paid</td>\n",
       "      <td>debt_consolidation</td>\n",
       "      <td>MA</td>\n",
       "      <td>2.30</td>\n",
       "      <td>1998-10-01</td>\n",
       "      <td>0</td>\n",
       "      <td>9698</td>\n",
       "      <td>19.4</td>\n",
       "      <td>2008-04-01</td>\n",
       "    </tr>\n",
       "    <tr>\n",
       "      <td>39715</td>\n",
       "      <td>90376</td>\n",
       "      <td>89243</td>\n",
       "      <td>5000</td>\n",
       "      <td>36</td>\n",
       "      <td>7.43</td>\n",
       "      <td>A</td>\n",
       "      <td>A2</td>\n",
       "      <td>1</td>\n",
       "      <td>MORTGAGE</td>\n",
       "      <td>200000.0</td>\n",
       "      <td>Not Verified</td>\n",
       "      <td>2007-07-01</td>\n",
       "      <td>Fully Paid</td>\n",
       "      <td>other</td>\n",
       "      <td>MD</td>\n",
       "      <td>3.72</td>\n",
       "      <td>1988-11-01</td>\n",
       "      <td>0</td>\n",
       "      <td>85607</td>\n",
       "      <td>0.7</td>\n",
       "      <td>2008-01-01</td>\n",
       "    </tr>\n",
       "    <tr>\n",
       "      <td>39716</td>\n",
       "      <td>87023</td>\n",
       "      <td>86999</td>\n",
       "      <td>7500</td>\n",
       "      <td>36</td>\n",
       "      <td>13.75</td>\n",
       "      <td>E</td>\n",
       "      <td>E2</td>\n",
       "      <td>1</td>\n",
       "      <td>OWN</td>\n",
       "      <td>22000.0</td>\n",
       "      <td>Not Verified</td>\n",
       "      <td>2007-06-01</td>\n",
       "      <td>Fully Paid</td>\n",
       "      <td>debt_consolidation</td>\n",
       "      <td>MA</td>\n",
       "      <td>14.29</td>\n",
       "      <td>2003-10-01</td>\n",
       "      <td>0</td>\n",
       "      <td>4175</td>\n",
       "      <td>51.5</td>\n",
       "      <td>2010-06-01</td>\n",
       "    </tr>\n",
       "  </tbody>\n",
       "</table>\n",
       "<p>39717 rows × 21 columns</p>\n",
       "</div>"
      ],
      "text/plain": [
       "            id  member_id  loan_amnt  term  int_rate grade sub_grade  \\\n",
       "0      1077501    1296599       5000   36      10.65     B        B2   \n",
       "1      1077430    1314167       2500   60      15.27     C        C4   \n",
       "2      1077175    1313524       2400   36      15.96     C        C5   \n",
       "3      1076863    1277178      10000   36      13.49     C        C1   \n",
       "4      1075358    1311748       3000   60      12.69     B        B5   \n",
       "...        ...        ...        ...   ...       ...   ...       ...   \n",
       "39712    92187      92174       2500   36       8.07     A        A4   \n",
       "39713    90665      90607       8500   36      10.28     C        C1   \n",
       "39714    90395      90390       5000   36       8.07     A        A4   \n",
       "39715    90376      89243       5000   36       7.43     A        A2   \n",
       "39716    87023      86999       7500   36      13.75     E        E2   \n",
       "\n",
       "      emp_length home_ownership  annual_inc verification_status    issue_d  \\\n",
       "0             10           RENT     24000.0            Verified 2011-12-01   \n",
       "1             1            RENT     30000.0     Source Verified 2011-12-01   \n",
       "2             10           RENT     12252.0        Not Verified 2011-12-01   \n",
       "3             10           RENT     49200.0     Source Verified 2011-12-01   \n",
       "4             1            RENT     80000.0     Source Verified 2011-12-01   \n",
       "...          ...            ...         ...                 ...        ...   \n",
       "39712         4        MORTGAGE    110000.0        Not Verified 2007-07-01   \n",
       "39713         3            RENT     18000.0        Not Verified 2007-07-01   \n",
       "39714         1        MORTGAGE    100000.0        Not Verified 2007-07-01   \n",
       "39715         1        MORTGAGE    200000.0        Not Verified 2007-07-01   \n",
       "39716         1             OWN     22000.0        Not Verified 2007-06-01   \n",
       "\n",
       "       loan_status             purpose addr_state    dti earliest_cr_line  \\\n",
       "0       Fully Paid         credit_card         AZ  27.65       1985-01-01   \n",
       "1      Charged Off                 car         GA   1.00       1999-04-01   \n",
       "2       Fully Paid      small_business         IL   8.72       2001-11-01   \n",
       "3       Fully Paid               other         CA  20.00       1996-02-01   \n",
       "4          Current               other         OR  17.94       1996-01-01   \n",
       "...            ...                 ...        ...    ...              ...   \n",
       "39712   Fully Paid    home_improvement         CO  11.33       1990-11-01   \n",
       "39713   Fully Paid         credit_card         NC   6.40       1986-12-01   \n",
       "39714   Fully Paid  debt_consolidation         MA   2.30       1998-10-01   \n",
       "39715   Fully Paid               other         MD   3.72       1988-11-01   \n",
       "39716   Fully Paid  debt_consolidation         MA  14.29       2003-10-01   \n",
       "\n",
       "       inq_last_6mths  revol_bal  revol_util last_pymnt_d  \n",
       "0                   1      13648        83.7   2015-01-01  \n",
       "1                   5       1687         9.4   2013-04-01  \n",
       "2                   2       2956        98.5   2014-06-01  \n",
       "3                   1       5598        21.0   2015-01-01  \n",
       "4                   0      27783        53.9   2016-05-01  \n",
       "...               ...        ...         ...          ...  \n",
       "39712               0       7274        13.1   2010-07-01  \n",
       "39713               1       8847        26.9   2010-07-01  \n",
       "39714               0       9698        19.4   2008-04-01  \n",
       "39715               0      85607         0.7   2008-01-01  \n",
       "39716               0       4175        51.5   2010-06-01  \n",
       "\n",
       "[39717 rows x 21 columns]"
      ]
     },
     "execution_count": 457,
     "metadata": {},
     "output_type": "execute_result"
    }
   ],
   "source": [
    "df"
   ]
  },
  {
   "cell_type": "code",
   "execution_count": 458,
   "metadata": {},
   "outputs": [],
   "source": [
    "#df.to_csv(\"cleaned.csv\")"
   ]
  },
  {
   "cell_type": "markdown",
   "metadata": {},
   "source": [
    "## Univariate Analysis & Segmented Univariate Analysis"
   ]
  },
  {
   "cell_type": "markdown",
   "metadata": {},
   "source": [
    "### Variable: loan_amnt"
   ]
  },
  {
   "cell_type": "code",
   "execution_count": 459,
   "metadata": {},
   "outputs": [
    {
     "data": {
      "text/plain": [
       "count    38577.000000\n",
       "mean     11047.025430\n",
       "std       7348.441646\n",
       "min        500.000000\n",
       "25%       5300.000000\n",
       "50%       9600.000000\n",
       "75%      15000.000000\n",
       "max      35000.000000\n",
       "Name: loan_amnt, dtype: float64"
      ]
     },
     "execution_count": 459,
     "metadata": {},
     "output_type": "execute_result"
    }
   ],
   "source": [
    "df_withoutCurrent = df[~(df.loan_status == \"Current\")]\n",
    "df_withoutCurrent.loan_amnt.describe()"
   ]
  },
  {
   "cell_type": "code",
   "execution_count": 460,
   "metadata": {},
   "outputs": [
    {
     "data": {
      "text/plain": [
       "count    38577.000000\n",
       "mean     11047.025430\n",
       "std       7348.441646\n",
       "min        500.000000\n",
       "10%       3090.000000\n",
       "20%       5000.000000\n",
       "30%       6000.000000\n",
       "40%       7750.000000\n",
       "50%       9600.000000\n",
       "60%      11200.000000\n",
       "70%      14000.000000\n",
       "80%      16000.000000\n",
       "90%      21600.000000\n",
       "max      35000.000000\n",
       "Name: loan_amnt, dtype: float64"
      ]
     },
     "execution_count": 460,
     "metadata": {},
     "output_type": "execute_result"
    }
   ],
   "source": [
    "df_withoutCurrent.loan_amnt.describe(percentiles=[.10, .20, .30, .40, .50, .60, .70, .80, .90])"
   ]
  },
  {
   "cell_type": "code",
   "execution_count": 461,
   "metadata": {},
   "outputs": [
    {
     "data": {
      "image/png": "[encoded data removed]",
      "text/plain": [
       "<Figure size 432x288 with 1 Axes>"
      ]
     },
     "metadata": {
      "needs_background": "light"
     },
     "output_type": "display_data"
    }
   ],
   "source": [
    "# checking the distribution of loan_amnt\n",
    "sns.boxplot(y=df_withoutCurrent.loan_amnt)\n",
    "plt.show()"
   ]
  },
  {
   "cell_type": "code",
   "execution_count": 462,
   "metadata": {},
   "outputs": [
    {
     "name": "stderr",
     "output_type": "stream",
     "text": [
      "D:\\Programs\\Continuum\\anaconda3\\lib\\site-packages\\ipykernel_launcher.py:2: SettingWithCopyWarning: \n",
      "A value is trying to be set on a copy of a slice from a DataFrame.\n",
      "Try using .loc[row_indexer,col_indexer] = value instead\n",
      "\n",
      "See the caveats in the documentation: http://pandas.pydata.org/pandas-docs/stable/user_guide/indexing.html#returning-a-view-versus-a-copy\n",
      "  \n"
     ]
    }
   ],
   "source": [
    "# A new derived metric to make the analysis simpler\n",
    "df_withoutCurrent['loan_amnt_bucket'] = pd.cut(df['loan_amnt'], [x for x in range(0, 36000, 5000)], labels=[str(x)+'-'+str(x+5)+'K' for x in range (0, 35, 5)])"
   ]
  },
  {
   "cell_type": "code",
   "execution_count": 463,
   "metadata": {},
   "outputs": [],
   "source": [
    "# From this bar graph, we can see that most of the loan amounts fall in 5-10K range\n",
    "#sns.countplot(df.loan_amnt_bucket, order = df.loan_amnt_bucket.value_counts().index)"
   ]
  },
  {
   "cell_type": "code",
   "execution_count": 464,
   "metadata": {},
   "outputs": [
    {
     "data": {
      "image/png": "[encoded data removed]",
      "text/plain": [
       "<Figure size 720x360 with 1 Axes>"
      ]
     },
     "metadata": {
      "needs_background": "light"
     },
     "output_type": "display_data"
    }
   ],
   "source": [
    "loan_amnt_bucket_count = df_withoutCurrent.groupby('loan_amnt_bucket').id.count().sort_values(ascending = False)\n",
    "\n",
    "plt.figure(figsize = (10,5))\n",
    "plt.xticks(rotation = 90)\n",
    "plt_loan_amnt_bucket = sns.barplot(x=loan_amnt_bucket_count.index, y=loan_amnt_bucket_count.values, order = loan_amnt_bucket_count.index)\n",
    "\n",
    "# For displaying values in bar plot\n",
    "for i, item in loan_amnt_bucket_count.reset_index(drop = True).sort_values(ascending = False).iteritems():\n",
    "    plt_loan_amnt_bucket.text(i, item, str(round(item/len(df)*100, 2)) + '%', color=\"black\", ha=\"center\")\n",
    "plt.show()"
   ]
  },
  {
   "cell_type": "code",
   "execution_count": 465,
   "metadata": {},
   "outputs": [
    {
     "data": {
      "image/png": "[encoded data removed]",
      "text/plain": [
       "<Figure size 432x288 with 1 Axes>"
      ]
     },
     "metadata": {
      "needs_background": "light"
     },
     "output_type": "display_data"
    }
   ],
   "source": [
    "#from the graph, it looks like relatively higher number of loans were issued in rounded figures such as 5000, 10000, 12000, 15000, 20000, 25000, 30000 and 35000\n",
    "# also, don't see outliers, mean and median are comparable.\n",
    "sns.distplot(df_withoutCurrent.loan_amnt)\n",
    "plt.show()"
   ]
  },
  {
   "cell_type": "code",
   "execution_count": 466,
   "metadata": {},
   "outputs": [
    {
     "data": {
      "text/plain": [
       "loan_amnt_bucket\n",
       "0-5K      23.848730\n",
       "5-10K     32.233049\n",
       "10-15K    19.344361\n",
       "15-20K    10.949971\n",
       "20-25K     7.140519\n",
       "25-30K     1.762469\n",
       "30-35K     1.850593\n",
       "Name: id, dtype: float64"
      ]
     },
     "execution_count": 466,
     "metadata": {},
     "output_type": "execute_result"
    }
   ],
   "source": [
    "# almost 75% of the loans were below 15,000; As we have observed earlier, most of the loans (32%) are fall in the range 5-10K\n",
    "df_withoutCurrent.groupby('loan_amnt_bucket')['id'].count() * 100/  len(df.index)"
   ]
  },
  {
   "cell_type": "code",
   "execution_count": 467,
   "metadata": {},
   "outputs": [
    {
     "data": {
      "text/plain": [
       "loan_status  loan_amnt_bucket\n",
       "Charged Off  0-5K                 1314\n",
       "             5-10K                1642\n",
       "             10-15K               1055\n",
       "             15-20K                751\n",
       "             20-25K                542\n",
       "             25-30K                143\n",
       "             30-35K                180\n",
       "Fully Paid   0-5K                 8158\n",
       "             5-10K               11160\n",
       "             10-15K               6628\n",
       "             15-20K               3598\n",
       "             20-25K               2294\n",
       "             25-30K                557\n",
       "             30-35K                555\n",
       "Name: loan_amnt_bucket, dtype: int64"
      ]
     },
     "execution_count": 467,
     "metadata": {},
     "output_type": "execute_result"
    }
   ],
   "source": [
    "# Idea is to find the percentage of Charged Off loans in each loan_amnt_bucket.\n",
    "grouped = df_withoutCurrent.groupby(['loan_status', 'loan_amnt_bucket'])['loan_amnt_bucket'].count()\n",
    "grouped"
   ]
  },
  {
   "cell_type": "code",
   "execution_count": 468,
   "metadata": {},
   "outputs": [
    {
     "data": {
      "text/html": [
       "<div>\n",
       "<style scoped>\n",
       "    .dataframe tbody tr th:only-of-type {\n",
       "        vertical-align: middle;\n",
       "    }\n",
       "\n",
       "    .dataframe tbody tr th {\n",
       "        vertical-align: top;\n",
       "    }\n",
       "\n",
       "    .dataframe thead th {\n",
       "        text-align: right;\n",
       "    }\n",
       "</style>\n",
       "<table border=\"1\" class=\"dataframe\">\n",
       "  <thead>\n",
       "    <tr style=\"text-align: right;\">\n",
       "      <th>loan_amnt_bucket</th>\n",
       "      <th>0-5K</th>\n",
       "      <th>5-10K</th>\n",
       "      <th>10-15K</th>\n",
       "      <th>15-20K</th>\n",
       "      <th>20-25K</th>\n",
       "      <th>25-30K</th>\n",
       "      <th>30-35K</th>\n",
       "    </tr>\n",
       "    <tr>\n",
       "      <th>loan_status</th>\n",
       "      <th></th>\n",
       "      <th></th>\n",
       "      <th></th>\n",
       "      <th></th>\n",
       "      <th></th>\n",
       "      <th></th>\n",
       "      <th></th>\n",
       "    </tr>\n",
       "  </thead>\n",
       "  <tbody>\n",
       "    <tr>\n",
       "      <td>Charged Off</td>\n",
       "      <td>1314</td>\n",
       "      <td>1642</td>\n",
       "      <td>1055</td>\n",
       "      <td>751</td>\n",
       "      <td>542</td>\n",
       "      <td>143</td>\n",
       "      <td>180</td>\n",
       "    </tr>\n",
       "    <tr>\n",
       "      <td>Fully Paid</td>\n",
       "      <td>8158</td>\n",
       "      <td>11160</td>\n",
       "      <td>6628</td>\n",
       "      <td>3598</td>\n",
       "      <td>2294</td>\n",
       "      <td>557</td>\n",
       "      <td>555</td>\n",
       "    </tr>\n",
       "  </tbody>\n",
       "</table>\n",
       "</div>"
      ],
      "text/plain": [
       "loan_amnt_bucket  0-5K  5-10K  10-15K  15-20K  20-25K  25-30K  30-35K\n",
       "loan_status                                                          \n",
       "Charged Off       1314   1642    1055     751     542     143     180\n",
       "Fully Paid        8158  11160    6628    3598    2294     557     555"
      ]
     },
     "execution_count": 468,
     "metadata": {},
     "output_type": "execute_result"
    }
   ],
   "source": [
    "# Converting it to more useful shape\n",
    "gp_unstacked = grouped.unstack(level=-1)\n",
    "gp_unstacked"
   ]
  },
  {
   "cell_type": "code",
   "execution_count": 469,
   "metadata": {},
   "outputs": [
    {
     "data": {
      "text/plain": [
       "loan_amnt_bucket\n",
       "0-5K       9472\n",
       "5-10K     12802\n",
       "10-15K     7683\n",
       "15-20K     4349\n",
       "20-25K     2836\n",
       "25-30K      700\n",
       "30-35K      735\n",
       "Name: loan_amnt_bucket, dtype: int64"
      ]
     },
     "execution_count": 469,
     "metadata": {},
     "output_type": "execute_result"
    }
   ],
   "source": [
    "# total number in each loan_amnt_bucket to find the percentage\n",
    "grouped_loan_amnt = df_withoutCurrent.groupby('loan_amnt_bucket')['loan_amnt_bucket'].count()\n",
    "grouped_loan_amnt"
   ]
  },
  {
   "cell_type": "code",
   "execution_count": 470,
   "metadata": {},
   "outputs": [
    {
     "data": {
      "text/html": [
       "<div>\n",
       "<style scoped>\n",
       "    .dataframe tbody tr th:only-of-type {\n",
       "        vertical-align: middle;\n",
       "    }\n",
       "\n",
       "    .dataframe tbody tr th {\n",
       "        vertical-align: top;\n",
       "    }\n",
       "\n",
       "    .dataframe thead th {\n",
       "        text-align: right;\n",
       "    }\n",
       "</style>\n",
       "<table border=\"1\" class=\"dataframe\">\n",
       "  <thead>\n",
       "    <tr style=\"text-align: right;\">\n",
       "      <th>loan_amnt_bucket</th>\n",
       "      <th>0-5K</th>\n",
       "      <th>5-10K</th>\n",
       "      <th>10-15K</th>\n",
       "      <th>15-20K</th>\n",
       "      <th>20-25K</th>\n",
       "      <th>25-30K</th>\n",
       "      <th>30-35K</th>\n",
       "    </tr>\n",
       "    <tr>\n",
       "      <th>loan_status</th>\n",
       "      <th></th>\n",
       "      <th></th>\n",
       "      <th></th>\n",
       "      <th></th>\n",
       "      <th></th>\n",
       "      <th></th>\n",
       "      <th></th>\n",
       "    </tr>\n",
       "  </thead>\n",
       "  <tbody>\n",
       "    <tr>\n",
       "      <td>Charged Off</td>\n",
       "      <td>13.872466</td>\n",
       "      <td>12.826121</td>\n",
       "      <td>13.731615</td>\n",
       "      <td>17.268338</td>\n",
       "      <td>19.111425</td>\n",
       "      <td>20.428571</td>\n",
       "      <td>24.489796</td>\n",
       "    </tr>\n",
       "    <tr>\n",
       "      <td>Fully Paid</td>\n",
       "      <td>86.127534</td>\n",
       "      <td>87.173879</td>\n",
       "      <td>86.268385</td>\n",
       "      <td>82.731662</td>\n",
       "      <td>80.888575</td>\n",
       "      <td>79.571429</td>\n",
       "      <td>75.510204</td>\n",
       "    </tr>\n",
       "  </tbody>\n",
       "</table>\n",
       "</div>"
      ],
      "text/plain": [
       "loan_amnt_bucket       0-5K      5-10K     10-15K     15-20K     20-25K  \\\n",
       "loan_status                                                               \n",
       "Charged Off       13.872466  12.826121  13.731615  17.268338  19.111425   \n",
       "Fully Paid        86.127534  87.173879  86.268385  82.731662  80.888575   \n",
       "\n",
       "loan_amnt_bucket     25-30K     30-35K  \n",
       "loan_status                             \n",
       "Charged Off       20.428571  24.489796  \n",
       "Fully Paid        79.571429  75.510204  "
      ]
     },
     "execution_count": 470,
     "metadata": {},
     "output_type": "execute_result"
    }
   ],
   "source": [
    "# Percentage of Charged Off in each loan_amnt_bucket\n",
    "perc = gp_unstacked * 100 / grouped_loan_amnt\n",
    "perc"
   ]
  },
  {
   "cell_type": "code",
   "execution_count": 471,
   "metadata": {},
   "outputs": [
    {
     "data": {
      "text/plain": [
       "<matplotlib.axes._subplots.AxesSubplot at 0x278db325508>"
      ]
     },
     "execution_count": 471,
     "metadata": {},
     "output_type": "execute_result"
    },
    {
     "data": {
      "image/png": "[encoded data removed]",
      "text/plain": [
       "<Figure size 432x288 with 1 Axes>"
      ]
     },
     "metadata": {
      "needs_background": "light"
     },
     "output_type": "display_data"
    }
   ],
   "source": [
    "# we are interested only in Charged Off values\n",
    "perc.loc[\"Charged Off\"].sort_values(ascending = False).plot.bar()\n",
    "\n",
    "# from this plot, it is clear that higher the loan amount higher the risk of loan getting defaulted.\n",
    "# Also, risk of default is gradually increasing as the loan amount increases.\n",
    "# This indicates that bank has to reduce giving big loans as it carry high risk.\n",
    "# This could be one of the driver variables."
   ]
  },
  {
   "cell_type": "markdown",
   "metadata": {},
   "source": [
    "### Observations\n",
    "- Almost 75% of the loans were below 15,000; Most of the loans (32%) fall in the range 5-10K.\n",
    "- Relatively higher number of loans were issued in rounded figures such as 5000, 10000, 12000, 15000, 20000, 25000, 30000 and 35000.\n",
    "- Not many outliers.\n",
    "- Higher the loan amount higher the risk of loan getting defaulted. Also, risk is gradually increasing as the loan amount increases.\n",
    "- Bank has to reduce giving big loans as it carry high risk."
   ]
  },
  {
   "cell_type": "markdown",
   "metadata": {},
   "source": [
    "### Variable: term"
   ]
  },
  {
   "cell_type": "code",
   "execution_count": 472,
   "metadata": {},
   "outputs": [
    {
     "data": {
      "text/plain": [
       "term\n",
       " 36     73.258302\n",
       " 60     23.871390\n",
       "Name: id, dtype: float64"
      ]
     },
     "execution_count": 472,
     "metadata": {},
     "output_type": "execute_result"
    }
   ],
   "source": [
    "# among all loans, 73.25% of them were short term\n",
    "df_withoutCurrent.groupby('term')['id'].count() * 100 / len(df.index)"
   ]
  },
  {
   "cell_type": "code",
   "execution_count": 473,
   "metadata": {},
   "outputs": [
    {
     "data": {
      "image/png": "[encoded data removed]",
      "text/plain": [
       "<Figure size 432x288 with 1 Axes>"
      ]
     },
     "metadata": {
      "needs_background": "light"
     },
     "output_type": "display_data"
    }
   ],
   "source": [
    "term_count = df_withoutCurrent.groupby('term').id.count().sort_values(ascending = False)\n",
    "\n",
    "plt.xticks(rotation = 90)\n",
    "plt_term_count = sns.barplot(x=term_count.index, y=term_count.values, order = term_count.index)\n",
    "\n",
    "# For displaying values in bar plot\n",
    "for i, item in term_count.reset_index(drop = True).sort_values(ascending = False).iteritems():\n",
    "    plt_term_count.text(i, item, str(round(item/len(df)*100, 2)) + '%', color=\"black\", ha=\"center\")\n",
    "plt.show()"
   ]
  },
  {
   "cell_type": "code",
   "execution_count": 474,
   "metadata": {},
   "outputs": [
    {
     "data": {
      "text/plain": [
       "<matplotlib.axes._subplots.AxesSubplot at 0x278dafec508>"
      ]
     },
     "execution_count": 474,
     "metadata": {},
     "output_type": "execute_result"
    },
    {
     "data": {
      "image/png": "[encoded data removed]",
      "text/plain": [
       "<Figure size 432x288 with 1 Axes>"
      ]
     },
     "metadata": {
      "needs_background": "light"
     },
     "output_type": "display_data"
    }
   ],
   "source": [
    "grouped_ls_term = df_withoutCurrent.groupby(['loan_status', 'term'])['term'].count()\n",
    "grouped_ls_term = grouped_ls_term.unstack(level=-1)\n",
    "grouped_term = df_withoutCurrent.groupby('term')['term'].count()\n",
    "perc_term = grouped_ls_term * 100 / grouped_term\n",
    "#perc_term\n",
    "perc_term.loc[\"Charged Off\"].sort_values(ascending = False).plot.bar()\n"
   ]
  },
  {
   "cell_type": "markdown",
   "metadata": {},
   "source": [
    "### Observations:\n",
    "- Almost 74% of total loans were short term, 36 months\n",
    "- Almost 25% of long term loans were Charged Off, so it's evident that long term loans are risker\n",
    "- It's suggested to reduce long term loans as it carry high risk"
   ]
  },
  {
   "cell_type": "markdown",
   "metadata": {},
   "source": [
    "### Variable: int_rate"
   ]
  },
  {
   "cell_type": "code",
   "execution_count": 475,
   "metadata": {},
   "outputs": [
    {
     "data": {
      "text/plain": [
       "count    38577.000000\n",
       "mean        11.932219\n",
       "std          3.691327\n",
       "min          5.420000\n",
       "10%          7.140000\n",
       "20%          7.900000\n",
       "30%          9.990000\n",
       "40%         10.990000\n",
       "50%         11.710000\n",
       "60%         12.840000\n",
       "70%         13.800000\n",
       "80%         15.210000\n",
       "90%         16.820000\n",
       "99%         20.990000\n",
       "max         24.400000\n",
       "Name: int_rate, dtype: float64"
      ]
     },
     "execution_count": 475,
     "metadata": {},
     "output_type": "execute_result"
    }
   ],
   "source": [
    "df_withoutCurrent.int_rate.describe(percentiles=[.1,.2,.3,.4,.5,.6,.7,.8,.9,.99])"
   ]
  },
  {
   "cell_type": "code",
   "execution_count": 476,
   "metadata": {},
   "outputs": [
    {
     "name": "stderr",
     "output_type": "stream",
     "text": [
      "D:\\Programs\\Continuum\\anaconda3\\lib\\site-packages\\ipykernel_launcher.py:2: SettingWithCopyWarning: \n",
      "A value is trying to be set on a copy of a slice from a DataFrame.\n",
      "Try using .loc[row_indexer,col_indexer] = value instead\n",
      "\n",
      "See the caveats in the documentation: http://pandas.pydata.org/pandas-docs/stable/user_guide/indexing.html#returning-a-view-versus-a-copy\n",
      "  \n"
     ]
    }
   ],
   "source": [
    "# Creating buckets for interests\n",
    "df_withoutCurrent['int_rate_bucket'] = pd.cut(df_withoutCurrent['int_rate'], [x for x in range(5, 30, 5)], labels=[str(x)+'-'+str(x+5)+'%' for x in range (5, 25, 5)])"
   ]
  },
  {
   "cell_type": "code",
   "execution_count": 477,
   "metadata": {},
   "outputs": [
    {
     "data": {
      "text/plain": [
       "int_rate_bucket\n",
       "5-10%     12316\n",
       "10-15%    18265\n",
       "15-20%     7226\n",
       "20-25%      770\n",
       "Name: id, dtype: int64"
      ]
     },
     "execution_count": 477,
     "metadata": {},
     "output_type": "execute_result"
    }
   ],
   "source": [
    "df_withoutCurrent.groupby('int_rate_bucket')['id'].count()"
   ]
  },
  {
   "cell_type": "code",
   "execution_count": 478,
   "metadata": {},
   "outputs": [
    {
     "data": {
      "text/plain": [
       "int_rate_bucket\n",
       "5-10%     31.925759\n",
       "10-15%    47.346865\n",
       "15-20%    18.731368\n",
       "20-25%     1.996008\n",
       "Name: id, dtype: float64"
      ]
     },
     "execution_count": 478,
     "metadata": {},
     "output_type": "execute_result"
    }
   ],
   "source": [
    "# from the below result, it can be seen that 10-15% is the interest rates of most of the loans\n",
    "df_withoutCurrent.groupby('int_rate_bucket')['id'].count() * 100/  len(df_withoutCurrent.index)"
   ]
  },
  {
   "cell_type": "code",
   "execution_count": 479,
   "metadata": {},
   "outputs": [
    {
     "data": {
      "image/png": "[encoded data removed]",
      "text/plain": [
       "<Figure size 720x360 with 1 Axes>"
      ]
     },
     "metadata": {
      "needs_background": "light"
     },
     "output_type": "display_data"
    }
   ],
   "source": [
    "rate_count = df_withoutCurrent.groupby('int_rate_bucket').id.count().sort_values(ascending = False)\n",
    "\n",
    "plt.figure(figsize = (10,5))\n",
    "plt.xticks(rotation = 90)\n",
    "plt_rate_count = sns.barplot(x=rate_count.index, y=rate_count.values, order = rate_count.index)\n",
    "\n",
    "# For displaying values in bar plot\n",
    "for i, item in rate_count.reset_index(drop = True).sort_values(ascending = False).iteritems():\n",
    "    plt_rate_count.text(i, item, str(round(item/len(df_withoutCurrent)*100, 2)) + '%', color=\"black\", ha=\"center\")\n",
    "plt.show()"
   ]
  },
  {
   "cell_type": "code",
   "execution_count": 480,
   "metadata": {},
   "outputs": [
    {
     "data": {
      "image/png": "[encoded data removed]",
      "text/plain": [
       "<Figure size 432x288 with 1 Axes>"
      ]
     },
     "metadata": {
      "needs_background": "light"
     },
     "output_type": "display_data"
    }
   ],
   "source": [
    "sns.distplot(df_withoutCurrent.int_rate)\n",
    "plt.show()"
   ]
  },
  {
   "cell_type": "code",
   "execution_count": 481,
   "metadata": {},
   "outputs": [
    {
     "data": {
      "text/plain": [
       "loan_status  int_rate_bucket\n",
       "Charged Off  5-10%                830\n",
       "             10-15%              2707\n",
       "             15-20%              1794\n",
       "             20-25%               296\n",
       "Fully Paid   5-10%              11486\n",
       "             10-15%             15558\n",
       "             15-20%              5432\n",
       "             20-25%               474\n",
       "Name: int_rate_bucket, dtype: int64"
      ]
     },
     "execution_count": 481,
     "metadata": {},
     "output_type": "execute_result"
    }
   ],
   "source": [
    "grouped_by_ls_irb = df_withoutCurrent.groupby(['loan_status', 'int_rate_bucket'])['int_rate_bucket'].count()\n",
    "grouped_by_ls_irb"
   ]
  },
  {
   "cell_type": "code",
   "execution_count": 482,
   "metadata": {},
   "outputs": [
    {
     "data": {
      "text/html": [
       "<div>\n",
       "<style scoped>\n",
       "    .dataframe tbody tr th:only-of-type {\n",
       "        vertical-align: middle;\n",
       "    }\n",
       "\n",
       "    .dataframe tbody tr th {\n",
       "        vertical-align: top;\n",
       "    }\n",
       "\n",
       "    .dataframe thead th {\n",
       "        text-align: right;\n",
       "    }\n",
       "</style>\n",
       "<table border=\"1\" class=\"dataframe\">\n",
       "  <thead>\n",
       "    <tr style=\"text-align: right;\">\n",
       "      <th>int_rate_bucket</th>\n",
       "      <th>5-10%</th>\n",
       "      <th>10-15%</th>\n",
       "      <th>15-20%</th>\n",
       "      <th>20-25%</th>\n",
       "    </tr>\n",
       "    <tr>\n",
       "      <th>loan_status</th>\n",
       "      <th></th>\n",
       "      <th></th>\n",
       "      <th></th>\n",
       "      <th></th>\n",
       "    </tr>\n",
       "  </thead>\n",
       "  <tbody>\n",
       "    <tr>\n",
       "      <td>Charged Off</td>\n",
       "      <td>830</td>\n",
       "      <td>2707</td>\n",
       "      <td>1794</td>\n",
       "      <td>296</td>\n",
       "    </tr>\n",
       "    <tr>\n",
       "      <td>Fully Paid</td>\n",
       "      <td>11486</td>\n",
       "      <td>15558</td>\n",
       "      <td>5432</td>\n",
       "      <td>474</td>\n",
       "    </tr>\n",
       "  </tbody>\n",
       "</table>\n",
       "</div>"
      ],
      "text/plain": [
       "int_rate_bucket  5-10%  10-15%  15-20%  20-25%\n",
       "loan_status                                   \n",
       "Charged Off        830    2707    1794     296\n",
       "Fully Paid       11486   15558    5432     474"
      ]
     },
     "execution_count": 482,
     "metadata": {},
     "output_type": "execute_result"
    }
   ],
   "source": [
    "grouped_by_ls_irb = grouped_by_ls_irb.unstack(level=-1)\n",
    "grouped_by_ls_irb"
   ]
  },
  {
   "cell_type": "code",
   "execution_count": 483,
   "metadata": {},
   "outputs": [
    {
     "data": {
      "text/plain": [
       "int_rate_bucket\n",
       "5-10%     12316\n",
       "10-15%    18265\n",
       "15-20%     7226\n",
       "20-25%      770\n",
       "Name: int_rate_bucket, dtype: int64"
      ]
     },
     "execution_count": 483,
     "metadata": {},
     "output_type": "execute_result"
    }
   ],
   "source": [
    "gp_by_rate = df_withoutCurrent.groupby(['int_rate_bucket'])['int_rate_bucket'].count()\n",
    "gp_by_rate"
   ]
  },
  {
   "cell_type": "code",
   "execution_count": 484,
   "metadata": {},
   "outputs": [
    {
     "data": {
      "text/html": [
       "<div>\n",
       "<style scoped>\n",
       "    .dataframe tbody tr th:only-of-type {\n",
       "        vertical-align: middle;\n",
       "    }\n",
       "\n",
       "    .dataframe tbody tr th {\n",
       "        vertical-align: top;\n",
       "    }\n",
       "\n",
       "    .dataframe thead th {\n",
       "        text-align: right;\n",
       "    }\n",
       "</style>\n",
       "<table border=\"1\" class=\"dataframe\">\n",
       "  <thead>\n",
       "    <tr style=\"text-align: right;\">\n",
       "      <th>int_rate_bucket</th>\n",
       "      <th>5-10%</th>\n",
       "      <th>10-15%</th>\n",
       "      <th>15-20%</th>\n",
       "      <th>20-25%</th>\n",
       "    </tr>\n",
       "    <tr>\n",
       "      <th>loan_status</th>\n",
       "      <th></th>\n",
       "      <th></th>\n",
       "      <th></th>\n",
       "      <th></th>\n",
       "    </tr>\n",
       "  </thead>\n",
       "  <tbody>\n",
       "    <tr>\n",
       "      <td>Charged Off</td>\n",
       "      <td>6.739201</td>\n",
       "      <td>14.820695</td>\n",
       "      <td>24.827014</td>\n",
       "      <td>38.441558</td>\n",
       "    </tr>\n",
       "    <tr>\n",
       "      <td>Fully Paid</td>\n",
       "      <td>93.260799</td>\n",
       "      <td>85.179305</td>\n",
       "      <td>75.172986</td>\n",
       "      <td>61.558442</td>\n",
       "    </tr>\n",
       "  </tbody>\n",
       "</table>\n",
       "</div>"
      ],
      "text/plain": [
       "int_rate_bucket      5-10%     10-15%     15-20%     20-25%\n",
       "loan_status                                                \n",
       "Charged Off       6.739201  14.820695  24.827014  38.441558\n",
       "Fully Paid       93.260799  85.179305  75.172986  61.558442"
      ]
     },
     "execution_count": 484,
     "metadata": {},
     "output_type": "execute_result"
    }
   ],
   "source": [
    "# Percentage of defaulters in each tax bucket\n",
    "perc_rate = grouped_by_ls_irb * 100 / gp_by_rate\n",
    "perc_rate"
   ]
  },
  {
   "cell_type": "code",
   "execution_count": 485,
   "metadata": {},
   "outputs": [
    {
     "data": {
      "text/plain": [
       "<matplotlib.axes._subplots.AxesSubplot at 0x278d03a9448>"
      ]
     },
     "execution_count": 485,
     "metadata": {},
     "output_type": "execute_result"
    },
    {
     "data": {
      "image/png": "[encoded data removed]",
      "text/plain": [
       "<Figure size 432x288 with 1 Axes>"
      ]
     },
     "metadata": {
      "needs_background": "light"
     },
     "output_type": "display_data"
    }
   ],
   "source": [
    "perc_rate.loc[\"Charged Off\"].sort_values(ascending = False).plot.bar()"
   ]
  },
  {
   "cell_type": "code",
   "execution_count": 486,
   "metadata": {},
   "outputs": [
    {
     "data": {
      "text/plain": [
       "<matplotlib.axes._subplots.AxesSubplot at 0x278d0cefa88>"
      ]
     },
     "execution_count": 486,
     "metadata": {},
     "output_type": "execute_result"
    },
    {
     "data": {
      "image/png": "[encoded data removed]",
      "text/plain": [
       "<Figure size 432x288 with 1 Axes>"
      ]
     },
     "metadata": {
      "needs_background": "light"
     },
     "output_type": "display_data"
    }
   ],
   "source": [
    "perc_rate.loc[\"Fully Paid\"].sort_values(ascending = False).plot.bar()"
   ]
  },
  {
   "cell_type": "markdown",
   "metadata": {},
   "source": [
    "### Observations\n",
    "- Most of the loans that were provided fall in the range of 10-15% interest rates\n",
    "- If calculated interested rate is more than 15%, then it is not adivsable to give loans of huge amounts as the risk is higher.\n",
    "- From the plots, it is clear that a higher risk is associated with high interest rates. "
   ]
  },
  {
   "cell_type": "markdown",
   "metadata": {},
   "source": [
    "### Variable: grade"
   ]
  },
  {
   "cell_type": "code",
   "execution_count": 487,
   "metadata": {},
   "outputs": [
    {
     "data": {
      "text/plain": [
       "grade\n",
       "A    26.038831\n",
       "B    30.264147\n",
       "C    20.307437\n",
       "D    13.181429\n",
       "E     6.903077\n",
       "F     2.530005\n",
       "G     0.775073\n",
       "Name: id, dtype: float64"
      ]
     },
     "execution_count": 487,
     "metadata": {},
     "output_type": "execute_result"
    }
   ],
   "source": [
    "df_withoutCurrent.groupby('grade')['id'].count() * 100/  len(df_withoutCurrent.index)"
   ]
  },
  {
   "cell_type": "code",
   "execution_count": 488,
   "metadata": {},
   "outputs": [
    {
     "data": {
      "image/png": "[encoded data removed]",
      "text/plain": [
       "<Figure size 720x360 with 1 Axes>"
      ]
     },
     "metadata": {
      "needs_background": "light"
     },
     "output_type": "display_data"
    }
   ],
   "source": [
    "grade_count = df_withoutCurrent.groupby('grade').id.count().sort_values(ascending = False)\n",
    "\n",
    "plt.figure(figsize = (10,5))\n",
    "plt.xticks(rotation = 90)\n",
    "plt_grade_count = sns.barplot(x=grade_count.index, y=grade_count.values, order = grade_count.index)\n",
    "\n",
    "# For displaying values in bar plot\n",
    "for i, item in grade_count.reset_index(drop = True).sort_values(ascending = False).iteritems():\n",
    "    plt_grade_count.text(i, item, str(round(item/len(df_withoutCurrent)*100, 2)) + '%', color=\"black\", ha=\"center\")\n",
    "plt.show()\n",
    "# we can see that most popular loan is B"
   ]
  },
  {
   "cell_type": "code",
   "execution_count": 489,
   "metadata": {},
   "outputs": [
    {
     "data": {
      "text/html": [
       "<div>\n",
       "<style scoped>\n",
       "    .dataframe tbody tr th:only-of-type {\n",
       "        vertical-align: middle;\n",
       "    }\n",
       "\n",
       "    .dataframe tbody tr th {\n",
       "        vertical-align: top;\n",
       "    }\n",
       "\n",
       "    .dataframe thead th {\n",
       "        text-align: right;\n",
       "    }\n",
       "</style>\n",
       "<table border=\"1\" class=\"dataframe\">\n",
       "  <thead>\n",
       "    <tr style=\"text-align: right;\">\n",
       "      <th>grade</th>\n",
       "      <th>A</th>\n",
       "      <th>B</th>\n",
       "      <th>C</th>\n",
       "      <th>D</th>\n",
       "      <th>E</th>\n",
       "      <th>F</th>\n",
       "      <th>G</th>\n",
       "    </tr>\n",
       "    <tr>\n",
       "      <th>loan_status</th>\n",
       "      <th></th>\n",
       "      <th></th>\n",
       "      <th></th>\n",
       "      <th></th>\n",
       "      <th></th>\n",
       "      <th></th>\n",
       "      <th></th>\n",
       "    </tr>\n",
       "  </thead>\n",
       "  <tbody>\n",
       "    <tr>\n",
       "      <td>Charged Off</td>\n",
       "      <td>5.993031</td>\n",
       "      <td>12.205567</td>\n",
       "      <td>17.194281</td>\n",
       "      <td>21.986234</td>\n",
       "      <td>26.849418</td>\n",
       "      <td>32.684426</td>\n",
       "      <td>33.779264</td>\n",
       "    </tr>\n",
       "    <tr>\n",
       "      <td>Fully Paid</td>\n",
       "      <td>94.006969</td>\n",
       "      <td>87.794433</td>\n",
       "      <td>82.805719</td>\n",
       "      <td>78.013766</td>\n",
       "      <td>73.150582</td>\n",
       "      <td>67.315574</td>\n",
       "      <td>66.220736</td>\n",
       "    </tr>\n",
       "  </tbody>\n",
       "</table>\n",
       "</div>"
      ],
      "text/plain": [
       "grade                A          B          C          D          E          F  \\\n",
       "loan_status                                                                     \n",
       "Charged Off   5.993031  12.205567  17.194281  21.986234  26.849418  32.684426   \n",
       "Fully Paid   94.006969  87.794433  82.805719  78.013766  73.150582  67.315574   \n",
       "\n",
       "grade                G  \n",
       "loan_status             \n",
       "Charged Off  33.779264  \n",
       "Fully Paid   66.220736  "
      ]
     },
     "execution_count": 489,
     "metadata": {},
     "output_type": "execute_result"
    }
   ],
   "source": [
    "grouped_ls_grade = df_withoutCurrent.groupby(['loan_status', 'grade'])['grade'].count()\n",
    "grouped_ls_grade = grouped_ls_grade.unstack(level=-1)\n",
    "grouped_grade = df_withoutCurrent.groupby('grade')['grade'].count()\n",
    "perc_grade = grouped_ls_grade * 100 / grouped_grade\n",
    "perc_grade"
   ]
  },
  {
   "cell_type": "code",
   "execution_count": 490,
   "metadata": {},
   "outputs": [
    {
     "data": {
      "text/plain": [
       "<matplotlib.axes._subplots.AxesSubplot at 0x278d0b309c8>"
      ]
     },
     "execution_count": 490,
     "metadata": {},
     "output_type": "execute_result"
    },
    {
     "data": {
      "image/png": "[encoded data removed]",
      "text/plain": [
       "<Figure size 432x288 with 1 Axes>"
      ]
     },
     "metadata": {
      "needs_background": "light"
     },
     "output_type": "display_data"
    }
   ],
   "source": [
    "perc_grade.loc[\"Charged Off\"].sort_values(ascending = False).plot.bar()"
   ]
  },
  {
   "cell_type": "code",
   "execution_count": 491,
   "metadata": {},
   "outputs": [
    {
     "data": {
      "text/plain": [
       "<matplotlib.axes._subplots.AxesSubplot at 0x278d73ba508>"
      ]
     },
     "execution_count": 491,
     "metadata": {},
     "output_type": "execute_result"
    },
    {
     "data": {
      "image/png": "[encoded data removed]",
      "text/plain": [
       "<Figure size 432x288 with 1 Axes>"
      ]
     },
     "metadata": {
      "needs_background": "light"
     },
     "output_type": "display_data"
    }
   ],
   "source": [
    "perc_grade.loc[\"Fully Paid\"].sort_values(ascending = False).plot.bar()"
   ]
  },
  {
   "cell_type": "markdown",
   "metadata": {},
   "source": [
    "### Observations:\n",
    "- Top 3 popular loan grades are B, A and C\n",
    "- Almost 30% of the loans are grade B\n",
    "- It seems that lower grade loans such as G, F, E are riskier\n",
    "- On the other hand, A, B and C good loans\n",
    "- More than 30% of G-grade loans were defaulted and it carries the highest risk.\n",
    "- It is recommended to stop giving loans with lower grades"
   ]
  },
  {
   "cell_type": "markdown",
   "metadata": {},
   "source": [
    "### Variable: emp_length"
   ]
  },
  {
   "cell_type": "code",
   "execution_count": 492,
   "metadata": {},
   "outputs": [
    {
     "name": "stderr",
     "output_type": "stream",
     "text": [
      "D:\\Programs\\Continuum\\anaconda3\\lib\\site-packages\\ipykernel_launcher.py:2: SettingWithCopyWarning: \n",
      "A value is trying to be set on a copy of a slice from a DataFrame.\n",
      "Try using .loc[row_indexer,col_indexer] = value instead\n",
      "\n",
      "See the caveats in the documentation: http://pandas.pydata.org/pandas-docs/stable/user_guide/indexing.html#returning-a-view-versus-a-copy\n",
      "  \n"
     ]
    },
    {
     "data": {
      "text/plain": [
       "emp_length\n",
       "10    8488\n",
       "1     7677\n",
       "2     4291\n",
       "3     4012\n",
       "4     3342\n",
       "5     3194\n",
       "6     2168\n",
       "7     1711\n",
       "8     1435\n",
       "9     1226\n",
       "Name: id, dtype: int64"
      ]
     },
     "execution_count": 492,
     "metadata": {},
     "output_type": "execute_result"
    }
   ],
   "source": [
    "# Need to correct two versions of 1\n",
    "df_withoutCurrent['emp_length'] = df_withoutCurrent['emp_length'].str.strip()\n",
    "(df_withoutCurrent.groupby('emp_length')['id'].count()).sort_values(ascending=False)"
   ]
  },
  {
   "cell_type": "code",
   "execution_count": 493,
   "metadata": {},
   "outputs": [
    {
     "data": {
      "image/png": "[encoded data removed]",
      "text/plain": [
       "<Figure size 720x360 with 1 Axes>"
      ]
     },
     "metadata": {
      "needs_background": "light"
     },
     "output_type": "display_data"
    }
   ],
   "source": [
    "emp_length_count = df_withoutCurrent.groupby('emp_length').id.count().sort_values(ascending = False)\n",
    "\n",
    "plt.figure(figsize = (10,5))\n",
    "plt.xticks(rotation = 90)\n",
    "plt_emp_length_count = sns.barplot(x=emp_length_count.index, y=emp_length_count.values, order = emp_length_count.index)\n",
    "\n",
    "# For displaying values in bar plot\n",
    "for i, item in emp_length_count.reset_index(drop = True).sort_values(ascending = False).iteritems():\n",
    "    plt_emp_length_count.text(i, item, str(round(item/len(df_withoutCurrent)*100, 2)) + '%', color=\"black\", ha=\"center\")\n",
    "plt.show()\n",
    "\n",
    "# almost 22% of the loans were given to 10+ years experienced people"
   ]
  },
  {
   "cell_type": "code",
   "execution_count": 494,
   "metadata": {},
   "outputs": [
    {
     "data": {
      "text/plain": [
       "emp_length\n",
       "10    15.680961\n",
       "7     15.371128\n",
       "5     14.339386\n",
       "1     14.263384\n",
       "6     14.160517\n",
       "8     14.146341\n",
       "3     13.833500\n",
       "4     13.824057\n",
       "2     13.213703\n",
       "9     12.887439\n",
       "Name: Charged Off, dtype: float64"
      ]
     },
     "execution_count": 494,
     "metadata": {},
     "output_type": "execute_result"
    }
   ],
   "source": [
    "# Analysing the impact on loan_status column; \n",
    "grouped_ls_exp = df_withoutCurrent.groupby(['loan_status', 'emp_length'])['emp_length'].count()\n",
    "grouped_ls_exp = grouped_ls_exp.unstack(level=-1)\n",
    "grouped_exp = df_withoutCurrent.groupby('emp_length')['emp_length'].count()\n",
    "perc_exp = grouped_ls_exp * 100 / grouped_exp\n",
    "perc_exp.loc[\"Charged Off\"].sort_values(ascending = False)"
   ]
  },
  {
   "cell_type": "code",
   "execution_count": 495,
   "metadata": {},
   "outputs": [
    {
     "data": {
      "text/plain": [
       "<matplotlib.axes._subplots.AxesSubplot at 0x278d7359048>"
      ]
     },
     "execution_count": 495,
     "metadata": {},
     "output_type": "execute_result"
    },
    {
     "data": {
      "image/png": "[encoded data removed]",
      "text/plain": [
       "<Figure size 432x288 with 1 Axes>"
      ]
     },
     "metadata": {
      "needs_background": "light"
     },
     "output_type": "display_data"
    }
   ],
   "source": [
    "perc_exp.loc[\"Charged Off\"].sort_values(ascending = False).plot.bar()"
   ]
  },
  {
   "cell_type": "code",
   "execution_count": 496,
   "metadata": {},
   "outputs": [
    {
     "data": {
      "text/plain": [
       "<matplotlib.axes._subplots.AxesSubplot at 0x278deeae3c8>"
      ]
     },
     "execution_count": 496,
     "metadata": {},
     "output_type": "execute_result"
    },
    {
     "data": {
      "image/png": "[encoded data removed]",
      "text/plain": [
       "<Figure size 432x288 with 1 Axes>"
      ]
     },
     "metadata": {
      "needs_background": "light"
     },
     "output_type": "display_data"
    }
   ],
   "source": [
    "perc_exp.loc[\"Fully Paid\"].sort_values(ascending = False).plot.bar()"
   ]
  },
  {
   "cell_type": "markdown",
   "metadata": {},
   "source": [
    "### Observations:\n",
    "- Most of the loans (22%) were issued to people have 10 or more years of experience\n",
    "- Surprisingly, second largest borrowers (~20%) were the people with 1 or less year of experience.\n",
    "- No significant impact found on loan status"
   ]
  },
  {
   "cell_type": "markdown",
   "metadata": {},
   "source": [
    "### Variable: home_ownership"
   ]
  },
  {
   "cell_type": "code",
   "execution_count": 497,
   "metadata": {},
   "outputs": [
    {
     "data": {
      "text/plain": [
       "home_ownership\n",
       "MORTGAGE    44.462069\n",
       "NONE         0.007553\n",
       "OTHER        0.246746\n",
       "OWN          7.699474\n",
       "RENT        47.584158\n",
       "dtype: float64"
      ]
     },
     "execution_count": 497,
     "metadata": {},
     "output_type": "execute_result"
    }
   ],
   "source": [
    "df.groupby('home_ownership').size() * 100 / len(df.index)"
   ]
  },
  {
   "cell_type": "code",
   "execution_count": 498,
   "metadata": {},
   "outputs": [],
   "source": [
    "#(df.groupby('home_ownership').size() * 100 / len(df.index)).sort_values(ascending = False).plot.bar()"
   ]
  },
  {
   "cell_type": "code",
   "execution_count": 499,
   "metadata": {},
   "outputs": [],
   "source": [
    "# from the plot, it is clear that the most of the people who have taken loans have thier home on rent or on mortgage\n",
    "#sns.countplot(df.home_ownership, order = df.home_ownership.value_counts().index)"
   ]
  },
  {
   "cell_type": "code",
   "execution_count": 500,
   "metadata": {},
   "outputs": [
    {
     "data": {
      "image/png": "[encoded data removed]",
      "text/plain": [
       "<Figure size 720x360 with 1 Axes>"
      ]
     },
     "metadata": {
      "needs_background": "light"
     },
     "output_type": "display_data"
    }
   ],
   "source": [
    "home_ownership_count = df_withoutCurrent.groupby('home_ownership').id.count().sort_values(ascending = False)\n",
    "\n",
    "plt.figure(figsize = (10,5))\n",
    "plt.xticks(rotation = 90)\n",
    "plt_home_ownership_count = sns.barplot(x=home_ownership_count.index, y=home_ownership_count.values, order = home_ownership_count.index)\n",
    "\n",
    "# For displaying values in bar plot\n",
    "for i, item in home_ownership_count.reset_index(drop = True).sort_values(ascending = False).iteritems():\n",
    "    plt_home_ownership_count.text(i, item, str(round(item/len(df_withoutCurrent)*100, 2)) + '%', color=\"black\", ha=\"center\")\n",
    "plt.show()\n",
    "# from the plot, it is clear that the most of the people who have taken loans have thier home on rent or on mortgage"
   ]
  },
  {
   "cell_type": "code",
   "execution_count": 501,
   "metadata": {},
   "outputs": [
    {
     "data": {
      "text/plain": [
       "home_ownership\n",
       "OTHER       18.367347\n",
       "RENT        15.362554\n",
       "OWN         14.890756\n",
       "MORTGAGE    13.671347\n",
       "NONE              NaN\n",
       "Name: Charged Off, dtype: float64"
      ]
     },
     "execution_count": 501,
     "metadata": {},
     "output_type": "execute_result"
    }
   ],
   "source": [
    "# Analysing the impact on loan_status column; \n",
    "grouped_ls_home_ownership = df_withoutCurrent.groupby(['loan_status', 'home_ownership'])['home_ownership'].count()\n",
    "# changing it to useful shape\n",
    "grouped_ls_home_ownership = grouped_ls_home_ownership.unstack(level=-1)\n",
    "grouped_home_ownership = df_withoutCurrent.groupby('home_ownership')['home_ownership'].count()\n",
    "perc_home_ownership = grouped_ls_home_ownership * 100 / grouped_home_ownership\n",
    "perc_home_ownership.loc[\"Charged Off\"].sort_values(ascending = False)"
   ]
  },
  {
   "cell_type": "code",
   "execution_count": 502,
   "metadata": {},
   "outputs": [
    {
     "data": {
      "text/plain": [
       "<matplotlib.axes._subplots.AxesSubplot at 0x278d6d56e08>"
      ]
     },
     "execution_count": 502,
     "metadata": {},
     "output_type": "execute_result"
    },
    {
     "data": {
      "image/png": "[encoded data removed]",
      "text/plain": [
       "<Figure size 432x288 with 1 Axes>"
      ]
     },
     "metadata": {
      "needs_background": "light"
     },
     "output_type": "display_data"
    }
   ],
   "source": [
    "perc_home_ownership.loc[\"Charged Off\"].sort_values(ascending = False).plot.bar()"
   ]
  },
  {
   "cell_type": "code",
   "execution_count": 503,
   "metadata": {},
   "outputs": [
    {
     "data": {
      "text/plain": [
       "<matplotlib.axes._subplots.AxesSubplot at 0x278d6634908>"
      ]
     },
     "execution_count": 503,
     "metadata": {},
     "output_type": "execute_result"
    },
    {
     "data": {
      "image/png": "[encoded data removed]",
      "text/plain": [
       "<Figure size 432x288 with 1 Axes>"
      ]
     },
     "metadata": {
      "needs_background": "light"
     },
     "output_type": "display_data"
    }
   ],
   "source": [
    "perc_home_ownership.loc[\"Fully Paid\"].sort_values(ascending = False).plot.bar()"
   ]
  },
  {
   "cell_type": "markdown",
   "metadata": {},
   "source": [
    "### Obseravations:\n",
    "- It is clear from the analysis that most of the people who have taken loans have their home on rent or on mortgage.\n",
    "- They account for almost 92% of the total loans.\n",
    "- The most risky categoy is 'Others'. Almost 18% of people from this category defaulted their loans.\n",
    "- It is suggested to stop giving loans to people who belong to 'Other' category. Even though defaulters from other categories are comparable, have caution while giving loans to people who have their home on rent also."
   ]
  },
  {
   "cell_type": "markdown",
   "metadata": {},
   "source": [
    "### Variable: annual_inc"
   ]
  },
  {
   "cell_type": "code",
   "execution_count": 504,
   "metadata": {},
   "outputs": [
    {
     "data": {
      "image/png": "[encoded data removed]",
      "text/plain": [
       "<Figure size 432x288 with 1 Axes>"
      ]
     },
     "metadata": {
      "needs_background": "light"
     },
     "output_type": "display_data"
    }
   ],
   "source": [
    "sns.distplot(df_withoutCurrent.annual_inc)\n",
    "plt.show()\n",
    "# From the distribution, we can see it is right skewed."
   ]
  },
  {
   "cell_type": "code",
   "execution_count": 505,
   "metadata": {},
   "outputs": [
    {
     "data": {
      "text/plain": [
       "count    3.857700e+04\n",
       "mean     6.877797e+04\n",
       "std      6.421868e+04\n",
       "min      4.000000e+03\n",
       "10%      3.000000e+04\n",
       "20%      3.719616e+04\n",
       "25%      4.000000e+04\n",
       "30%      4.450000e+04\n",
       "40%      5.000400e+04\n",
       "50%      5.886800e+04\n",
       "60%      6.500400e+04\n",
       "70%      7.500000e+04\n",
       "75%      8.200000e+04\n",
       "80%      9.000000e+04\n",
       "85%      1.000000e+05\n",
       "90%      1.150000e+05\n",
       "95%      1.400040e+05\n",
       "98%      1.870000e+05\n",
       "99%      2.341440e+05\n",
       "max      6.000000e+06\n",
       "Name: annual_inc, dtype: float64"
      ]
     },
     "execution_count": 505,
     "metadata": {},
     "output_type": "execute_result"
    }
   ],
   "source": [
    "# potential to segregate into different buckets as we have values mainly from 3 different ranges\n",
    "df_withoutCurrent.annual_inc.describe(percentiles=[.1,.2,.25,.3,.4,.5,.6,.7,.75,.8, .85, .9,.95, .98, .99])"
   ]
  },
  {
   "cell_type": "code",
   "execution_count": 506,
   "metadata": {},
   "outputs": [
    {
     "data": {
      "image/png": "[encoded data removed]",
      "text/plain": [
       "<Figure size 432x288 with 1 Axes>"
      ]
     },
     "metadata": {
      "needs_background": "light"
     },
     "output_type": "display_data"
    }
   ],
   "source": [
    "# to check the presence of outliers\n",
    "sns.boxplot(y=df_withoutCurrent.annual_inc)\n",
    "plt.show()"
   ]
  },
  {
   "cell_type": "code",
   "execution_count": 507,
   "metadata": {},
   "outputs": [],
   "source": [
    "# removing outliers based on the logic:- if a value is greater than or equal to (3 * std) + mean, consider it as outlier\n",
    "df_withoutCurrent = df_withoutCurrent[df_withoutCurrent.annual_inc <= (3*df_withoutCurrent.annual_inc.std() + df_withoutCurrent.annual_inc.mean())]"
   ]
  },
  {
   "cell_type": "code",
   "execution_count": 508,
   "metadata": {},
   "outputs": [
    {
     "data": {
      "text/plain": [
       "count     38298.000000\n",
       "mean      65820.376936\n",
       "std       36385.799971\n",
       "min        4000.000000\n",
       "25%       40000.000000\n",
       "35%       48000.000000\n",
       "50%       58000.000000\n",
       "75%       81000.000000\n",
       "85%       99867.000000\n",
       "90%      112996.500000\n",
       "95%      135829.400000\n",
       "99%      200000.000000\n",
       "max      260735.000000\n",
       "Name: annual_inc, dtype: float64"
      ]
     },
     "execution_count": 508,
     "metadata": {},
     "output_type": "execute_result"
    }
   ],
   "source": [
    "df_withoutCurrent.annual_inc.describe(percentiles=[.25, .35, .75, .85, .90, .95, .99])"
   ]
  },
  {
   "cell_type": "code",
   "execution_count": 509,
   "metadata": {},
   "outputs": [
    {
     "data": {
      "image/png": "[encoded data removed]",
      "text/plain": [
       "<Figure size 432x288 with 1 Axes>"
      ]
     },
     "metadata": {
      "needs_background": "light"
     },
     "output_type": "display_data"
    }
   ],
   "source": [
    "sns.boxplot(y=df_withoutCurrent.annual_inc,  showfliers=False)\n",
    "plt.show()\n",
    "# from the below plot, it is clear that 75% people have income less than 80,000$"
   ]
  },
  {
   "cell_type": "code",
   "execution_count": 510,
   "metadata": {},
   "outputs": [
    {
     "data": {
      "text/plain": [
       "<matplotlib.axes._subplots.AxesSubplot at 0x278d6d91b88>"
      ]
     },
     "execution_count": 510,
     "metadata": {},
     "output_type": "execute_result"
    },
    {
     "data": {
      "image/png": "[encoded data removed]",
      "text/plain": [
       "<Figure size 432x288 with 1 Axes>"
      ]
     },
     "metadata": {
      "needs_background": "light"
     },
     "output_type": "display_data"
    }
   ],
   "source": [
    "sns.distplot(df_withoutCurrent.annual_inc)"
   ]
  },
  {
   "cell_type": "code",
   "execution_count": 511,
   "metadata": {},
   "outputs": [],
   "source": [
    "# binning the annual income\n",
    "df_withoutCurrent['annual_inc_bucket'] = pd.cut(df_withoutCurrent['annual_inc'], [x for x in range(0, 200000, 10000)], labels=[str(x)+'-'+str(x+10)+'K' for x in range (0, 190, 10)])\n",
    "#df_withoutCurrent[['annual_inc', 'annual_inc_bucket']].head(50)"
   ]
  },
  {
   "cell_type": "code",
   "execution_count": 512,
   "metadata": {},
   "outputs": [
    {
     "data": {
      "text/plain": [
       "annual_inc_bucket\n",
       "0-10K         98\n",
       "10-20K      1082\n",
       "20-30K      3371\n",
       "30-40K      5147\n",
       "40-50K      5691\n",
       "50-60K      5572\n",
       "60-70K      4096\n",
       "70-80K      3525\n",
       "80-90K      2510\n",
       "90-100K     2004\n",
       "100-110K    1230\n",
       "110-120K    1098\n",
       "120-130K     731\n",
       "130-140K     487\n",
       "140-150K     449\n",
       "150-160K     261\n",
       "160-170K     170\n",
       "170-180K     214\n",
       "180-190K     106\n",
       "Name: annual_inc_bucket, dtype: int64"
      ]
     },
     "execution_count": 512,
     "metadata": {},
     "output_type": "execute_result"
    }
   ],
   "source": [
    "df_withoutCurrent.groupby('annual_inc_bucket')['annual_inc_bucket'].count()"
   ]
  },
  {
   "cell_type": "code",
   "execution_count": 513,
   "metadata": {},
   "outputs": [
    {
     "data": {
      "text/plain": [
       "<matplotlib.axes._subplots.AxesSubplot at 0x278da296608>"
      ]
     },
     "execution_count": 513,
     "metadata": {},
     "output_type": "execute_result"
    },
    {
     "data": {
      "image/png": "[encoded data removed]",
      "text/plain": [
       "<Figure size 432x288 with 1 Axes>"
      ]
     },
     "metadata": {
      "needs_background": "light"
     },
     "output_type": "display_data"
    }
   ],
   "source": [
    "(df_withoutCurrent.groupby('annual_inc_bucket')['id'].count() * 100/ len(df_withoutCurrent)).plot.bar()"
   ]
  },
  {
   "cell_type": "code",
   "execution_count": 514,
   "metadata": {},
   "outputs": [
    {
     "data": {
      "image/png": "[encoded data removed]",
      "text/plain": [
       "<Figure size 1080x576 with 1 Axes>"
      ]
     },
     "metadata": {
      "needs_background": "light"
     },
     "output_type": "display_data"
    }
   ],
   "source": [
    "annual_inc_bucket_count = df_withoutCurrent.groupby('annual_inc_bucket').id.count().sort_values(ascending = False)\n",
    "\n",
    "plt.figure(figsize = (15,8))\n",
    "plt.xticks(rotation = 90)\n",
    "plt_annual_inc_bucket_count = sns.barplot(x=annual_inc_bucket_count.index, y=annual_inc_bucket_count.values, order = annual_inc_bucket_count.index)\n",
    "\n",
    "# For displaying values in bar plot\n",
    "for i, item in annual_inc_bucket_count.reset_index(drop = True).sort_values(ascending = False).iteritems():\n",
    "    plt_annual_inc_bucket_count.text(i, item, str(round(item/len(df_withoutCurrent)*100, 2)) + '%', color=\"black\", ha=\"center\")\n",
    "plt.show()"
   ]
  },
  {
   "cell_type": "code",
   "execution_count": 515,
   "metadata": {},
   "outputs": [
    {
     "data": {
      "text/plain": [
       "annual_inc_bucket\n",
       "0-10K       20.408163\n",
       "10-20K      20.055453\n",
       "20-30K      17.858202\n",
       "30-40K      17.719060\n",
       "50-60K      15.559943\n",
       "40-50K      15.146723\n",
       "180-190K    14.150943\n",
       "150-160K    13.793103\n",
       "60-70K      13.647461\n",
       "70-80K      13.191489\n",
       "80-90K      12.151394\n",
       "130-140K    11.704312\n",
       "90-100K     11.277445\n",
       "120-130K    10.943912\n",
       "170-180K    10.747664\n",
       "140-150K    10.690423\n",
       "110-120K    10.564663\n",
       "100-110K    10.406504\n",
       "160-170K     7.647059\n",
       "Name: Charged Off, dtype: float64"
      ]
     },
     "execution_count": 515,
     "metadata": {},
     "output_type": "execute_result"
    }
   ],
   "source": [
    "# Analysing the impact on loan_status column; \n",
    "grouped_ls_annual_inc_bucket = df_withoutCurrent.groupby(['loan_status', 'annual_inc_bucket'])['annual_inc_bucket'].count()\n",
    "# changing it to useful shape\n",
    "grouped_ls_annual_inc_bucket = grouped_ls_annual_inc_bucket.unstack(level=-1)\n",
    "grouped_annual_inc_bucket = df_withoutCurrent.groupby('annual_inc_bucket')['annual_inc_bucket'].count()\n",
    "perc_annual_inc_bucket = grouped_ls_annual_inc_bucket * 100 / grouped_annual_inc_bucket\n",
    "perc_annual_inc_bucket.loc[\"Charged Off\"].sort_values(ascending = False)"
   ]
  },
  {
   "cell_type": "code",
   "execution_count": 516,
   "metadata": {},
   "outputs": [
    {
     "data": {
      "text/plain": [
       "<matplotlib.axes._subplots.AxesSubplot at 0x278da9f7888>"
      ]
     },
     "execution_count": 516,
     "metadata": {},
     "output_type": "execute_result"
    },
    {
     "data": {
      "image/png": "[encoded data removed]",
      "text/plain": [
       "<Figure size 432x288 with 1 Axes>"
      ]
     },
     "metadata": {
      "needs_background": "light"
     },
     "output_type": "display_data"
    }
   ],
   "source": [
    "perc_annual_inc_bucket.loc[\"Charged Off\"].sort_values(ascending = False).plot.bar()"
   ]
  },
  {
   "cell_type": "code",
   "execution_count": 517,
   "metadata": {},
   "outputs": [
    {
     "data": {
      "text/plain": [
       "<matplotlib.axes._subplots.AxesSubplot at 0x278daa81a88>"
      ]
     },
     "execution_count": 517,
     "metadata": {},
     "output_type": "execute_result"
    },
    {
     "data": {
      "image/png": "[encoded data removed]",
      "text/plain": [
       "<Figure size 432x288 with 1 Axes>"
      ]
     },
     "metadata": {
      "needs_background": "light"
     },
     "output_type": "display_data"
    }
   ],
   "source": [
    "perc_annual_inc_bucket.loc[\"Fully Paid\"].sort_values(ascending = False).plot.bar()"
   ]
  },
  {
   "cell_type": "markdown",
   "metadata": {},
   "source": [
    "### Observations:\n",
    "- The number of loans issued to people with lower income were relatively less.\n",
    "- 75% of the borrowers had an annual income equal to or lower than 80,000$.\n",
    "- From the analysis, it looked like people with a lower income are riskier\n",
    "- Almost 20% of loans were defaulted in the 0-10K and 10-20K category.\n",
    "- Almost 17.5% of loans were defaulted in the 20-30K and 30-40K category. In these categories, the number of loans issued was significantly higher in 30-40K category."
   ]
  },
  {
   "cell_type": "markdown",
   "metadata": {},
   "source": [
    "### Variable: verification_status"
   ]
  },
  {
   "cell_type": "code",
   "execution_count": 518,
   "metadata": {},
   "outputs": [
    {
     "data": {
      "text/plain": [
       "<matplotlib.axes._subplots.AxesSubplot at 0x278da9e3708>"
      ]
     },
     "execution_count": 518,
     "metadata": {},
     "output_type": "execute_result"
    },
    {
     "data": {
      "image/png": "[encoded data removed]",
      "text/plain": [
       "<Figure size 432x288 with 1 Axes>"
      ]
     },
     "metadata": {
      "needs_background": "light"
     },
     "output_type": "display_data"
    }
   ],
   "source": [
    "sns.countplot(df_withoutCurrent.verification_status, order = df_withoutCurrent.verification_status.value_counts().index)\n",
    "# from the plot, most of the people belong to 'Not Verified' category"
   ]
  },
  {
   "cell_type": "code",
   "execution_count": 519,
   "metadata": {},
   "outputs": [
    {
     "data": {
      "text/plain": [
       "verification_status\n",
       "Not Verified       43.404355\n",
       "Source Verified    25.035250\n",
       "Verified           31.560395\n",
       "dtype: float64"
      ]
     },
     "execution_count": 519,
     "metadata": {},
     "output_type": "execute_result"
    }
   ],
   "source": [
    "# From the below figures, it is clear that almost 42.6% people have 'Not Verified' status\n",
    "df_withoutCurrent.groupby('verification_status').size() * 100 / len(df_withoutCurrent.index)"
   ]
  },
  {
   "cell_type": "code",
   "execution_count": 520,
   "metadata": {},
   "outputs": [
    {
     "data": {
      "text/plain": [
       "verification_status\n",
       "Not Verified       16623\n",
       "Source Verified     9588\n",
       "Verified           12087\n",
       "Name: verification_status, dtype: int64"
      ]
     },
     "execution_count": 520,
     "metadata": {},
     "output_type": "execute_result"
    }
   ],
   "source": [
    "# in percentages\n",
    "#(df_withoutCurrent.groupby('verification_status').size() * 100 / len(df.index)).sort_values(ascending=False).plot.bar()\n",
    "df_withoutCurrent.groupby('verification_status')['verification_status'].count()"
   ]
  },
  {
   "cell_type": "code",
   "execution_count": 521,
   "metadata": {},
   "outputs": [
    {
     "data": {
      "image/png": "[encoded data removed]",
      "text/plain": [
       "<Figure size 360x360 with 1 Axes>"
      ]
     },
     "metadata": {
      "needs_background": "light"
     },
     "output_type": "display_data"
    }
   ],
   "source": [
    "verification_status_count = df_withoutCurrent.groupby('verification_status').id.count().sort_values(ascending = False)\n",
    "\n",
    "plt.figure(figsize = (5,5))\n",
    "plt.xticks(rotation = 90)\n",
    "plt_verification_status_count = sns.barplot(x=verification_status_count.index, y=verification_status_count.values, order = verification_status_count.index)\n",
    "\n",
    "# For displaying values in bar plot\n",
    "for i, item in verification_status_count.reset_index(drop = True).sort_values(ascending = False).iteritems():\n",
    "    plt_verification_status_count.text(i, item, str(round(item/len(df_withoutCurrent)*100, 2)) + '%', color=\"black\", ha=\"center\")\n",
    "plt.show()"
   ]
  },
  {
   "cell_type": "code",
   "execution_count": 522,
   "metadata": {},
   "outputs": [
    {
     "data": {
      "text/plain": [
       "verification_status\n",
       "Verified           16.861090\n",
       "Source Verified    14.862328\n",
       "Not Verified       12.837635\n",
       "Name: Charged Off, dtype: float64"
      ]
     },
     "execution_count": 522,
     "metadata": {},
     "output_type": "execute_result"
    }
   ],
   "source": [
    "# Analysing the impact on loan_status column; \n",
    "grouped_ls_vs = df_withoutCurrent.groupby(['loan_status', 'verification_status'])['verification_status'].count()\n",
    "# changing it to useful shape\n",
    "grouped_ls_vs = grouped_ls_vs.unstack(level=-1)\n",
    "grouped_vs = df_withoutCurrent.groupby('verification_status')['verification_status'].count()\n",
    "perc_vs = grouped_ls_vs * 100 / grouped_vs\n",
    "perc_vs.loc[\"Charged Off\"].sort_values(ascending = False)"
   ]
  },
  {
   "cell_type": "code",
   "execution_count": 523,
   "metadata": {},
   "outputs": [
    {
     "data": {
      "text/plain": [
       "<matplotlib.axes._subplots.AxesSubplot at 0x278db33e148>"
      ]
     },
     "execution_count": 523,
     "metadata": {},
     "output_type": "execute_result"
    },
    {
     "data": {
      "image/png": "[encoded data removed]",
      "text/plain": [
       "<Figure size 432x288 with 1 Axes>"
      ]
     },
     "metadata": {
      "needs_background": "light"
     },
     "output_type": "display_data"
    }
   ],
   "source": [
    "perc_vs.loc[\"Charged Off\"].sort_values(ascending = False).plot.bar()"
   ]
  },
  {
   "cell_type": "code",
   "execution_count": 524,
   "metadata": {},
   "outputs": [
    {
     "data": {
      "text/plain": [
       "<matplotlib.axes._subplots.AxesSubplot at 0x278db3a2e08>"
      ]
     },
     "execution_count": 524,
     "metadata": {},
     "output_type": "execute_result"
    },
    {
     "data": {
      "image/png": "[encoded data removed]",
      "text/plain": [
       "<Figure size 432x288 with 1 Axes>"
      ]
     },
     "metadata": {
      "needs_background": "light"
     },
     "output_type": "display_data"
    }
   ],
   "source": [
    "perc_vs.loc[\"Fully Paid\"].sort_values(ascending = False).plot.bar()"
   ]
  },
  {
   "cell_type": "markdown",
   "metadata": {},
   "source": [
    "### Observations:\n",
    "- Most of the loans were issued to the people whose income was 'Not Verified', about 43%\n",
    "- Ironically, most risky borrowers were those whose income was verified."
   ]
  },
  {
   "cell_type": "markdown",
   "metadata": {},
   "source": [
    "### Variable: issue_d\n"
   ]
  },
  {
   "cell_type": "code",
   "execution_count": 525,
   "metadata": {},
   "outputs": [],
   "source": [
    "df_withoutCurrent['issue_year'] = df_withoutCurrent['issue_d'].dt.year"
   ]
  },
  {
   "cell_type": "code",
   "execution_count": 526,
   "metadata": {},
   "outputs": [],
   "source": [
    "# add a new derived metric, month\n",
    "df_withoutCurrent['issue_month'] = df_withoutCurrent['issue_d'].dt.month"
   ]
  },
  {
   "cell_type": "code",
   "execution_count": 527,
   "metadata": {},
   "outputs": [
    {
     "data": {
      "text/plain": [
       "<matplotlib.axes._subplots.AxesSubplot at 0x278db40bec8>"
      ]
     },
     "execution_count": 527,
     "metadata": {},
     "output_type": "execute_result"
    },
    {
     "data": {
      "image/png": "[encoded data removed]",
      "text/plain": [
       "<Figure size 432x288 with 1 Axes>"
      ]
     },
     "metadata": {
      "needs_background": "light"
     },
     "output_type": "display_data"
    }
   ],
   "source": [
    "# from the bar chart, we can see that max number of loans are issued in 2011. \n",
    "# The number was increasing rapidly from the year 2007\n",
    "(df_withoutCurrent.groupby('issue_year')['id'].count()).sort_values(ascending = False).plot.bar()"
   ]
  },
  {
   "cell_type": "code",
   "execution_count": 528,
   "metadata": {},
   "outputs": [
    {
     "data": {
      "text/plain": [
       "<matplotlib.axes._subplots.AxesSubplot at 0x278da5b9208>"
      ]
     },
     "execution_count": 528,
     "metadata": {},
     "output_type": "execute_result"
    },
    {
     "data": {
      "image/png": "[encoded data removed]",
      "text/plain": [
       "<Figure size 432x288 with 1 Axes>"
      ]
     },
     "metadata": {
      "needs_background": "light"
     },
     "output_type": "display_data"
    }
   ],
   "source": [
    "(df_withoutCurrent.groupby('issue_month')['id'].count()).sort_values(ascending = False).plot.bar()"
   ]
  },
  {
   "cell_type": "code",
   "execution_count": 529,
   "metadata": {},
   "outputs": [
    {
     "data": {
      "text/plain": [
       "<matplotlib.axes._subplots.AxesSubplot at 0x278da662708>"
      ]
     },
     "execution_count": 529,
     "metadata": {},
     "output_type": "execute_result"
    },
    {
     "data": {
      "image/png": "[encoded data removed]",
      "text/plain": [
       "<Figure size 432x288 with 1 Axes>"
      ]
     },
     "metadata": {
      "needs_background": "light"
     },
     "output_type": "display_data"
    }
   ],
   "source": [
    "(df_withoutCurrent.groupby(['issue_year', 'issue_month'])['id'].count()).unstack(level=-1).plot.bar()"
   ]
  },
  {
   "cell_type": "code",
   "execution_count": 530,
   "metadata": {},
   "outputs": [
    {
     "data": {
      "text/plain": [
       "issue_year\n",
       "2007    17.338710\n",
       "2011    15.922254\n",
       "2008    15.809769\n",
       "2010    12.866008\n",
       "2009    12.652276\n",
       "Name: Charged Off, dtype: float64"
      ]
     },
     "execution_count": 530,
     "metadata": {},
     "output_type": "execute_result"
    }
   ],
   "source": [
    "# Analysing the impact on loan_status column; \n",
    "grouped_ls_year = df_withoutCurrent.groupby(['loan_status', 'issue_year'])['issue_year'].count()\n",
    "# changing it to useful shape\n",
    "grouped_ls_year = grouped_ls_year.unstack(level=-1)\n",
    "grouped_year = df_withoutCurrent.groupby('issue_year')['issue_year'].count()\n",
    "perc_year = grouped_ls_year * 100 / grouped_year\n",
    "perc_year.loc[\"Charged Off\"].sort_values(ascending = False)"
   ]
  },
  {
   "cell_type": "code",
   "execution_count": 531,
   "metadata": {},
   "outputs": [
    {
     "data": {
      "text/plain": [
       "<matplotlib.axes._subplots.AxesSubplot at 0x278db59c048>"
      ]
     },
     "execution_count": 531,
     "metadata": {},
     "output_type": "execute_result"
    },
    {
     "data": {
      "image/png": "[encoded data removed]",
      "text/plain": [
       "<Figure size 432x288 with 1 Axes>"
      ]
     },
     "metadata": {
      "needs_background": "light"
     },
     "output_type": "display_data"
    }
   ],
   "source": [
    "perc_year.loc[\"Charged Off\"].sort_values(ascending = False).plot.bar()"
   ]
  },
  {
   "cell_type": "code",
   "execution_count": 532,
   "metadata": {},
   "outputs": [
    {
     "data": {
      "text/plain": [
       "<matplotlib.axes._subplots.AxesSubplot at 0x278db7c32c8>"
      ]
     },
     "execution_count": 532,
     "metadata": {},
     "output_type": "execute_result"
    },
    {
     "data": {
      "image/png": "[encoded data removed]",
      "text/plain": [
       "<Figure size 432x288 with 1 Axes>"
      ]
     },
     "metadata": {
      "needs_background": "light"
     },
     "output_type": "display_data"
    }
   ],
   "source": [
    "# Analysing the impact on loan_status column; \n",
    "grouped_ls_month = df_withoutCurrent.groupby(['loan_status', 'issue_month'])['issue_month'].count()\n",
    "# changing it to useful shape\n",
    "grouped_ls_month = grouped_ls_month.unstack(level=-1)\n",
    "grouped_month = df_withoutCurrent.groupby('issue_month')['issue_month'].count()\n",
    "perc_month = grouped_ls_month * 100 / grouped_month\n",
    "perc_month.loc[\"Charged Off\"].sort_values(ascending = False).plot.bar()"
   ]
  },
  {
   "cell_type": "markdown",
   "metadata": {},
   "source": [
    "#### Observations\n",
    "- Most number of loans were issued in the year 2011.\n",
    "- There was a gradual increase in the number of loans issued over the years\n",
    "- The number of loans were gradually rising from Jan-Dec in almost all the years.\n",
    "- December has witnessed the most number of loan issual.\n",
    "- From the analysis, this variable has no significant impact on the loan status"
   ]
  },
  {
   "cell_type": "markdown",
   "metadata": {},
   "source": [
    "### Variable: loan_status"
   ]
  },
  {
   "cell_type": "code",
   "execution_count": 533,
   "metadata": {},
   "outputs": [
    {
     "data": {
      "text/plain": [
       "loan_status\n",
       "Charged Off     5597\n",
       "Fully Paid     32701\n",
       "Name: id, dtype: int64"
      ]
     },
     "execution_count": 533,
     "metadata": {},
     "output_type": "execute_result"
    }
   ],
   "source": [
    "# almost 14.16% loans were defaulted.\n",
    "df_withoutCurrent.groupby('loan_status')['id'].count()"
   ]
  },
  {
   "cell_type": "code",
   "execution_count": 534,
   "metadata": {},
   "outputs": [
    {
     "data": {
      "image/png": "[encoded data removed]",
      "text/plain": [
       "<Figure size 360x360 with 1 Axes>"
      ]
     },
     "metadata": {
      "needs_background": "light"
     },
     "output_type": "display_data"
    }
   ],
   "source": [
    "loanstatus_count = df_withoutCurrent.groupby('loan_status').id.count().sort_values(ascending = False)\n",
    "\n",
    "plt.figure(figsize = (5,5))\n",
    "plt.xticks(rotation = 90)\n",
    "plt_loanstatus_count = sns.barplot(x=loanstatus_count.index, y=loanstatus_count.values, order = loanstatus_count.index)\n",
    "\n",
    "# For displaying values in bar plot\n",
    "for i, item in loanstatus_count.reset_index(drop = True).sort_values(ascending = False).iteritems():\n",
    "    plt_loanstatus_count.text(i, item, str(round(item/len(df_withoutCurrent)*100, 2)) + '%', color=\"black\", ha=\"center\")\n",
    "plt.show()"
   ]
  },
  {
   "cell_type": "markdown",
   "metadata": {},
   "source": [
    "#### Observations:\n",
    "- 85% percentage of the loans were full paid and 15% loans were defaulted"
   ]
  },
  {
   "cell_type": "code",
   "execution_count": 535,
   "metadata": {},
   "outputs": [],
   "source": [
    "# saving to excel to visualise the data \n",
    "df_withoutCurrent.to_csv(\"after_uni.csv\")"
   ]
  },
  {
   "cell_type": "markdown",
   "metadata": {},
   "source": [
    "## Bivariate analysis"
   ]
  },
  {
   "cell_type": "markdown",
   "metadata": {},
   "source": [
    "#### loan_amnt vs annual_inc_bucket"
   ]
  },
  {
   "cell_type": "code",
   "execution_count": 536,
   "metadata": {},
   "outputs": [
    {
     "data": {
      "text/plain": [
       "<matplotlib.axes._subplots.AxesSubplot at 0x278da5182c8>"
      ]
     },
     "execution_count": 536,
     "metadata": {},
     "output_type": "execute_result"
    },
    {
     "data": {
      "image/png": "[encoded data removed]",
      "text/plain": [
       "<Figure size 432x288 with 1 Axes>"
      ]
     },
     "metadata": {
      "needs_background": "light"
     },
     "output_type": "display_data"
    }
   ],
   "source": [
    "# Let's see if we get some interesting trends\n",
    "df_withoutCurrent.boxplot(column='loan_amnt', by='annual_inc_bucket', showfliers=False)"
   ]
  },
  {
   "cell_type": "markdown",
   "metadata": {},
   "source": [
    "#### Observations:\n",
    "- The loan amount given to the people from 100-500K bracket seemed to be higer than other categories."
   ]
  },
  {
   "cell_type": "markdown",
   "metadata": {},
   "source": [
    "#### loan_amnt vs term"
   ]
  },
  {
   "cell_type": "code",
   "execution_count": 537,
   "metadata": {},
   "outputs": [
    {
     "data": {
      "text/plain": [
       "<matplotlib.axes._subplots.AxesSubplot at 0x278da518588>"
      ]
     },
     "execution_count": 537,
     "metadata": {},
     "output_type": "execute_result"
    },
    {
     "data": {
      "image/png": "[encoded data removed]",
      "text/plain": [
       "<Figure size 432x288 with 1 Axes>"
      ]
     },
     "metadata": {
      "needs_background": "light"
     },
     "output_type": "display_data"
    }
   ],
   "source": [
    "df_withoutCurrent.boxplot(column='loan_amnt', by='term',showfliers=False)"
   ]
  },
  {
   "cell_type": "markdown",
   "metadata": {},
   "source": [
    "#### Observations:\n",
    "- Long term loans were relatively bigger loans.\n",
    "- The mean loan amont of 36-term loans was ~7500 and that of 60-term loans was ~15,000 (approximately double).\n",
    "- In 36-months loans, 75% of loans were below 12.5K whereas in 60-months loans, it was below 20K."
   ]
  },
  {
   "cell_type": "markdown",
   "metadata": {},
   "source": [
    "#### loan_amnt vs grade"
   ]
  },
  {
   "cell_type": "code",
   "execution_count": 538,
   "metadata": {},
   "outputs": [
    {
     "data": {
      "text/plain": [
       "<matplotlib.axes._subplots.AxesSubplot at 0x278d7c5dcc8>"
      ]
     },
     "execution_count": 538,
     "metadata": {},
     "output_type": "execute_result"
    },
    {
     "data": {
      "image/png": "[encoded data removed]",
      "text/plain": [
       "<Figure size 432x288 with 1 Axes>"
      ]
     },
     "metadata": {
      "needs_background": "light"
     },
     "output_type": "display_data"
    }
   ],
   "source": [
    "df_withoutCurrent.boxplot(column='loan_amnt', by='grade', showfliers=False)"
   ]
  },
  {
   "cell_type": "markdown",
   "metadata": {},
   "source": [
    "#### Observations: \n",
    "- Lower grade loans were relatively bigger ones."
   ]
  },
  {
   "cell_type": "markdown",
   "metadata": {},
   "source": [
    "#### loan_amnt vs emp_length"
   ]
  },
  {
   "cell_type": "code",
   "execution_count": 539,
   "metadata": {},
   "outputs": [
    {
     "data": {
      "text/plain": [
       "<matplotlib.axes._subplots.AxesSubplot at 0x278e1904548>"
      ]
     },
     "execution_count": 539,
     "metadata": {},
     "output_type": "execute_result"
    },
    {
     "data": {
      "image/png": "[encoded data removed]",
      "text/plain": [
       "<Figure size 432x288 with 1 Axes>"
      ]
     },
     "metadata": {
      "needs_background": "light"
     },
     "output_type": "display_data"
    }
   ],
   "source": [
    "df_withoutCurrent.boxplot(column='loan_amnt', by='emp_length', showfliers=False)"
   ]
  },
  {
   "cell_type": "markdown",
   "metadata": {},
   "source": [
    "#### Observations:\n",
    "- Except people with 10 or more years of experience, the range of loan amount was almost same\n",
    "- The mean loan amount of people with 10 or more years of experience was slightly more than that of others"
   ]
  },
  {
   "cell_type": "markdown",
   "metadata": {},
   "source": [
    "#### annual_inc vs grade"
   ]
  },
  {
   "cell_type": "code",
   "execution_count": 540,
   "metadata": {},
   "outputs": [
    {
     "data": {
      "text/plain": [
       "<matplotlib.axes._subplots.AxesSubplot at 0x278dc0c1788>"
      ]
     },
     "execution_count": 540,
     "metadata": {},
     "output_type": "execute_result"
    },
    {
     "data": {
      "image/png": "[encoded data removed]",
      "text/plain": [
       "<Figure size 432x288 with 1 Axes>"
      ]
     },
     "metadata": {
      "needs_background": "light"
     },
     "output_type": "display_data"
    }
   ],
   "source": [
    "df_withoutCurrent.boxplot(column='annual_inc', by='grade', showfliers=False)"
   ]
  },
  {
   "cell_type": "markdown",
   "metadata": {},
   "source": [
    "#### Observations:\n",
    "- The lower grade loans seemed to be given to people with relatively higher annual income\n",
    "- This may be due to the fact that lower grade loans were relatively bigger loans"
   ]
  },
  {
   "cell_type": "markdown",
   "metadata": {},
   "source": [
    "#### loan_amnt vs int_rate"
   ]
  },
  {
   "cell_type": "code",
   "execution_count": 541,
   "metadata": {},
   "outputs": [
    {
     "data": {
      "text/plain": [
       "0.29919284005896285"
      ]
     },
     "execution_count": 541,
     "metadata": {},
     "output_type": "execute_result"
    }
   ],
   "source": [
    "# Just checking the correlation between loan amount and int_rate\n",
    "df_withoutCurrent.loan_amnt.corr(df_withoutCurrent.int_rate)"
   ]
  }
 ],
 "metadata": {
  "kernelspec": {
   "display_name": "Python 3",
   "language": "python",
   "name": "python3"
  },
  "language_info": {
   "codemirror_mode": {
    "name": "ipython",
    "version": 3
   },
   "file_extension": ".py",
   "mimetype": "text/x-python",
   "name": "python",
   "nbconvert_exporter": "python",
   "pygments_lexer": "ipython3",
   "version": "3.7.4"
  }
 },
 "nbformat": 4,
 "nbformat_minor": 4
}
