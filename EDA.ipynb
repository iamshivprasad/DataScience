{
 "cells": [
  {
   "cell_type": "code",
   "execution_count": 1,
   "metadata": {},
   "outputs": [],
   "source": [
    "import pandas as pd\n",
    "import numpy as np\n",
    "import matplotlib.pyplot as plt\n",
    "import seaborn as sns"
   ]
  },
  {
   "cell_type": "code",
   "execution_count": 2,
   "metadata": {},
   "outputs": [
    {
     "name": "stderr",
     "output_type": "stream",
     "text": [
      "C:\\Users\\adi00\\Anaconda3\\lib\\site-packages\\IPython\\core\\interactiveshell.py:3058: DtypeWarning: Columns (47) have mixed types. Specify dtype option on import or set low_memory=False.\n",
      "  interactivity=interactivity, compiler=compiler, result=result)\n"
     ]
    }
   ],
   "source": [
    "df = pd.read_csv(\"loan.csv\",  encoding = \"ISO-8859-1\")"
   ]
  },
  {
   "cell_type": "code",
   "execution_count": 221,
   "metadata": {},
   "outputs": [
    {
     "data": {
      "text/plain": [
       "id                              0.0\n",
       "member_id                       0.0\n",
       "loan_amnt                       0.0\n",
       "funded_amnt                     0.0\n",
       "funded_amnt_inv                 0.0\n",
       "                              ...  \n",
       "tax_liens                       0.1\n",
       "tot_hi_cred_lim               100.0\n",
       "total_bal_ex_mort             100.0\n",
       "total_bc_limit                100.0\n",
       "total_il_high_credit_limit    100.0\n",
       "Length: 111, dtype: float64"
      ]
     },
     "execution_count": 221,
     "metadata": {},
     "output_type": "execute_result"
    }
   ],
   "source": [
    "round(100*(df.isnull().sum()/len(df.index)), 2)"
   ]
  },
  {
   "cell_type": "code",
   "execution_count": 222,
   "metadata": {},
   "outputs": [],
   "source": [
    "# removing all columns where all elements are null (https://pandas.pydata.org/pandas-docs/stable/reference/api/pandas.DataFrame.dropna.html)\n",
    "df.dropna(axis=1, how='all', inplace=True)"
   ]
  },
  {
   "cell_type": "code",
   "execution_count": 223,
   "metadata": {},
   "outputs": [
    {
     "data": {
      "text/plain": [
       "id                             0.00\n",
       "member_id                      0.00\n",
       "loan_amnt                      0.00\n",
       "funded_amnt                    0.00\n",
       "funded_amnt_inv                0.00\n",
       "term                           0.00\n",
       "int_rate                       0.00\n",
       "installment                    0.00\n",
       "grade                          0.00\n",
       "sub_grade                      0.00\n",
       "emp_title                      6.19\n",
       "emp_length                     2.71\n",
       "home_ownership                 0.00\n",
       "annual_inc                     0.00\n",
       "verification_status            0.00\n",
       "issue_d                        0.00\n",
       "loan_status                    0.00\n",
       "pymnt_plan                     0.00\n",
       "url                            0.00\n",
       "desc                          32.58\n",
       "purpose                        0.00\n",
       "title                          0.03\n",
       "zip_code                       0.00\n",
       "addr_state                     0.00\n",
       "dti                            0.00\n",
       "delinq_2yrs                    0.00\n",
       "earliest_cr_line               0.00\n",
       "inq_last_6mths                 0.00\n",
       "mths_since_last_delinq        64.66\n",
       "mths_since_last_record        92.99\n",
       "open_acc                       0.00\n",
       "pub_rec                        0.00\n",
       "revol_bal                      0.00\n",
       "revol_util                     0.13\n",
       "total_acc                      0.00\n",
       "initial_list_status            0.00\n",
       "out_prncp                      0.00\n",
       "out_prncp_inv                  0.00\n",
       "total_pymnt                    0.00\n",
       "total_pymnt_inv                0.00\n",
       "total_rec_prncp                0.00\n",
       "total_rec_int                  0.00\n",
       "total_rec_late_fee             0.00\n",
       "recoveries                     0.00\n",
       "collection_recovery_fee        0.00\n",
       "last_pymnt_d                   0.18\n",
       "last_pymnt_amnt                0.00\n",
       "next_pymnt_d                  97.13\n",
       "last_credit_pull_d             0.01\n",
       "collections_12_mths_ex_med     0.14\n",
       "policy_code                    0.00\n",
       "application_type               0.00\n",
       "acc_now_delinq                 0.00\n",
       "chargeoff_within_12_mths       0.14\n",
       "delinq_amnt                    0.00\n",
       "pub_rec_bankruptcies           1.75\n",
       "tax_liens                      0.10\n",
       "dtype: float64"
      ]
     },
     "execution_count": 223,
     "metadata": {},
     "output_type": "execute_result"
    }
   ],
   "source": [
    "round(100*(df.isnull().sum()/len(df.index)), 2)"
   ]
  },
  {
   "cell_type": "code",
   "execution_count": 224,
   "metadata": {},
   "outputs": [
    {
     "data": {
      "text/plain": [
       "0        False\n",
       "1        False\n",
       "2        False\n",
       "3        False\n",
       "4        False\n",
       "         ...  \n",
       "39712    False\n",
       "39713    False\n",
       "39714    False\n",
       "39715    False\n",
       "39716    False\n",
       "Length: 39717, dtype: bool"
      ]
     },
     "execution_count": 224,
     "metadata": {},
     "output_type": "execute_result"
    }
   ],
   "source": [
    "# rows having all missing values\n",
    "df.isnull().all(axis=1)"
   ]
  },
  {
   "cell_type": "code",
   "execution_count": 225,
   "metadata": {},
   "outputs": [],
   "source": [
    "df.dropna(how='all', inplace=True)"
   ]
  },
  {
   "cell_type": "code",
   "execution_count": 226,
   "metadata": {},
   "outputs": [
    {
     "data": {
      "text/plain": [
       "0        False\n",
       "1        False\n",
       "2        False\n",
       "3        False\n",
       "4        False\n",
       "         ...  \n",
       "39712    False\n",
       "39713    False\n",
       "39714    False\n",
       "39715    False\n",
       "39716    False\n",
       "Length: 39717, dtype: bool"
      ]
     },
     "execution_count": 226,
     "metadata": {},
     "output_type": "execute_result"
    }
   ],
   "source": [
    "df.isnull().all(axis=1)"
   ]
  },
  {
   "cell_type": "code",
   "execution_count": 227,
   "metadata": {},
   "outputs": [
    {
     "data": {
      "text/plain": [
       "id                              0.00\n",
       "member_id                       0.00\n",
       "loan_amnt                       0.00\n",
       "funded_amnt                     0.00\n",
       "funded_amnt_inv                 0.32\n",
       "term                            0.00\n",
       "int_rate                        0.00\n",
       "installment                     0.00\n",
       "grade                           0.00\n",
       "sub_grade                       0.00\n",
       "emp_title                       0.00\n",
       "emp_length                      0.00\n",
       "home_ownership                  0.00\n",
       "annual_inc                      0.00\n",
       "verification_status             0.00\n",
       "issue_d                         0.00\n",
       "loan_status                     0.00\n",
       "pymnt_plan                      0.00\n",
       "url                             0.00\n",
       "desc                            0.00\n",
       "purpose                         0.00\n",
       "title                           0.00\n",
       "zip_code                        0.00\n",
       "addr_state                      0.00\n",
       "dti                             0.46\n",
       "delinq_2yrs                    89.14\n",
       "earliest_cr_line                0.00\n",
       "inq_last_6mths                 48.59\n",
       "mths_since_last_delinq          1.12\n",
       "mths_since_last_record          1.69\n",
       "open_acc                        0.00\n",
       "pub_rec                        94.67\n",
       "revol_bal                       2.50\n",
       "revol_util                      0.00\n",
       "total_acc                       0.00\n",
       "initial_list_status             0.00\n",
       "out_prncp                      97.13\n",
       "out_prncp_inv                  97.13\n",
       "total_pymnt                     0.04\n",
       "total_pymnt_inv                 0.42\n",
       "total_rec_prncp                 0.19\n",
       "total_rec_int                   0.18\n",
       "total_rec_late_fee             94.85\n",
       "recoveries                     89.38\n",
       "collection_recovery_fee        90.48\n",
       "last_pymnt_d                    0.00\n",
       "last_pymnt_amnt                 0.19\n",
       "next_pymnt_d                    0.00\n",
       "last_credit_pull_d              0.00\n",
       "collections_12_mths_ex_med     99.86\n",
       "policy_code                     0.00\n",
       "application_type                0.00\n",
       "acc_now_delinq                100.00\n",
       "chargeoff_within_12_mths       99.86\n",
       "delinq_amnt                   100.00\n",
       "pub_rec_bankruptcies           94.01\n",
       "tax_liens                      99.90\n",
       "dtype: float64"
      ]
     },
     "execution_count": 227,
     "metadata": {},
     "output_type": "execute_result"
    }
   ],
   "source": [
    "# checking the percetage of zeros in each column\n",
    "round(100*(df.eq(0).sum()/len(df.index)), 2)"
   ]
  },
  {
   "cell_type": "code",
   "execution_count": 228,
   "metadata": {},
   "outputs": [],
   "source": [
    "# removing the columns that have majorly zero\n",
    "df = df.drop('tax_liens', axis=1)\n",
    "df = df.drop('delinq_amnt', axis=1)\n",
    "df = df.drop('pub_rec_bankruptcies', axis=1)\n",
    "df = df.drop('chargeoff_within_12_mths', axis = 1)\n",
    "df = df.drop('acc_now_delinq', axis = 1)\n",
    "df = df.drop('collections_12_mths_ex_med', axis = 1)\n",
    "df = df.drop('collection_recovery_fee', axis = 1)\n",
    "df = df.drop('recoveries', axis = 1)\n",
    "df = df.drop('total_rec_late_fee', axis = 1)\n",
    "df = df.drop('out_prncp_inv', axis = 1)\n",
    "df = df.drop('out_prncp', axis = 1)\n",
    "df = df.drop('pub_rec', axis = 1)\n",
    "df = df.drop('delinq_2yrs', axis = 1)"
   ]
  },
  {
   "cell_type": "code",
   "execution_count": 229,
   "metadata": {},
   "outputs": [
    {
     "data": {
      "text/plain": [
       "id                         0.00\n",
       "member_id                  0.00\n",
       "loan_amnt                  0.00\n",
       "funded_amnt                0.00\n",
       "funded_amnt_inv            0.32\n",
       "term                       0.00\n",
       "int_rate                   0.00\n",
       "installment                0.00\n",
       "grade                      0.00\n",
       "sub_grade                  0.00\n",
       "emp_title                  0.00\n",
       "emp_length                 0.00\n",
       "home_ownership             0.00\n",
       "annual_inc                 0.00\n",
       "verification_status        0.00\n",
       "issue_d                    0.00\n",
       "loan_status                0.00\n",
       "pymnt_plan                 0.00\n",
       "url                        0.00\n",
       "desc                       0.00\n",
       "purpose                    0.00\n",
       "title                      0.00\n",
       "zip_code                   0.00\n",
       "addr_state                 0.00\n",
       "dti                        0.46\n",
       "earliest_cr_line           0.00\n",
       "inq_last_6mths            48.59\n",
       "mths_since_last_delinq     1.12\n",
       "mths_since_last_record     1.69\n",
       "open_acc                   0.00\n",
       "revol_bal                  2.50\n",
       "revol_util                 0.00\n",
       "total_acc                  0.00\n",
       "initial_list_status        0.00\n",
       "total_pymnt                0.04\n",
       "total_pymnt_inv            0.42\n",
       "total_rec_prncp            0.19\n",
       "total_rec_int              0.18\n",
       "last_pymnt_d               0.00\n",
       "last_pymnt_amnt            0.19\n",
       "next_pymnt_d               0.00\n",
       "last_credit_pull_d         0.00\n",
       "policy_code                0.00\n",
       "application_type           0.00\n",
       "dtype: float64"
      ]
     },
     "execution_count": 229,
     "metadata": {},
     "output_type": "execute_result"
    }
   ],
   "source": [
    "round(100*(df.eq(0).sum()/len(df.index)), 2)"
   ]
  },
  {
   "cell_type": "code",
   "execution_count": 230,
   "metadata": {},
   "outputs": [],
   "source": [
    "# removing columns that seem unnecessary\n",
    "df = df.drop('emp_title', axis=1)\n",
    "df = df.drop('url', axis=1)\n",
    "df = df.drop('desc', axis=1)\n",
    "df = df.drop('title', axis = 1)\n",
    "df = df.drop('zip_code', axis = 1)\n",
    "\n",
    "# reconsider\n",
    "#df = df.drop('inq_last_6mths', axis = 1)\n",
    "\n",
    "df = df.drop('mths_since_last_delinq', axis = 1)\n",
    "df = df.drop('mths_since_last_record', axis = 1)\n",
    "df = df.drop('initial_list_status', axis = 1)\n",
    "df = df.drop('open_acc', axis=1)\n",
    "df = df.drop('total_acc', axis=1)\n",
    "df = df.drop('total_pymnt', axis=1)\n",
    "df = df.drop('total_rec_prncp', axis=1)\n",
    "df = df.drop('total_rec_int', axis=1)\n",
    "df = df.drop('last_pymnt_amnt', axis=1)\n",
    "df = df.drop('last_credit_pull_d', axis=1)\n",
    "df = df.drop('total_pymnt_inv', axis=1)"
   ]
  },
  {
   "cell_type": "code",
   "execution_count": 231,
   "metadata": {},
   "outputs": [
    {
     "data": {
      "text/plain": [
       "id                      0.00\n",
       "member_id               0.00\n",
       "loan_amnt               0.00\n",
       "funded_amnt             0.00\n",
       "funded_amnt_inv         0.32\n",
       "term                    0.00\n",
       "int_rate                0.00\n",
       "installment             0.00\n",
       "grade                   0.00\n",
       "sub_grade               0.00\n",
       "emp_length              0.00\n",
       "home_ownership          0.00\n",
       "annual_inc              0.00\n",
       "verification_status     0.00\n",
       "issue_d                 0.00\n",
       "loan_status             0.00\n",
       "pymnt_plan              0.00\n",
       "purpose                 0.00\n",
       "addr_state              0.00\n",
       "dti                     0.46\n",
       "earliest_cr_line        0.00\n",
       "inq_last_6mths         48.59\n",
       "revol_bal               2.50\n",
       "revol_util              0.00\n",
       "last_pymnt_d            0.00\n",
       "next_pymnt_d            0.00\n",
       "policy_code             0.00\n",
       "application_type        0.00\n",
       "dtype: float64"
      ]
     },
     "execution_count": 231,
     "metadata": {},
     "output_type": "execute_result"
    }
   ],
   "source": [
    "round(100*(df.eq(0).sum()/len(df.index)), 2)"
   ]
  },
  {
   "cell_type": "code",
   "execution_count": 232,
   "metadata": {},
   "outputs": [
    {
     "data": {
      "text/plain": [
       "id                      0.00\n",
       "member_id               0.00\n",
       "loan_amnt               0.00\n",
       "funded_amnt             0.00\n",
       "funded_amnt_inv         0.00\n",
       "term                    0.00\n",
       "int_rate                0.00\n",
       "installment             0.00\n",
       "grade                   0.00\n",
       "sub_grade               0.00\n",
       "emp_length              2.71\n",
       "home_ownership          0.00\n",
       "annual_inc              0.00\n",
       "verification_status     0.00\n",
       "issue_d                 0.00\n",
       "loan_status             0.00\n",
       "pymnt_plan              0.00\n",
       "purpose                 0.00\n",
       "addr_state              0.00\n",
       "dti                     0.00\n",
       "earliest_cr_line        0.00\n",
       "inq_last_6mths          0.00\n",
       "revol_bal               0.00\n",
       "revol_util              0.13\n",
       "last_pymnt_d            0.18\n",
       "next_pymnt_d           97.13\n",
       "policy_code             0.00\n",
       "application_type        0.00\n",
       "dtype: float64"
      ]
     },
     "execution_count": 232,
     "metadata": {},
     "output_type": "execute_result"
    }
   ],
   "source": [
    "round(100*(df.isnull().sum()/len(df.index)), 2)"
   ]
  },
  {
   "cell_type": "code",
   "execution_count": 233,
   "metadata": {},
   "outputs": [],
   "source": [
    "# next_pymnt_d has more than 97% null values, removing the column\n",
    "df = df.drop('next_pymnt_d', axis=1)"
   ]
  },
  {
   "cell_type": "code",
   "execution_count": 234,
   "metadata": {},
   "outputs": [],
   "source": [
    "# this column has same value for the rows, doesn't add any value to our analysis\n",
    "df = df.drop('pymnt_plan', axis=1)"
   ]
  },
  {
   "cell_type": "code",
   "execution_count": 235,
   "metadata": {},
   "outputs": [],
   "source": [
    "# this column has same value for the rows, doesn't add any value to our analysis\n",
    "df = df.drop('application_type', axis=1)"
   ]
  },
  {
   "cell_type": "code",
   "execution_count": 236,
   "metadata": {},
   "outputs": [
    {
     "data": {
      "text/plain": [
       "0.9815782188237627"
      ]
     },
     "execution_count": 236,
     "metadata": {},
     "output_type": "execute_result"
    }
   ],
   "source": [
    "# Columns loan_amnt and fund_amnt seem to have similar set of values. It it's highly correlated, we can remove one of the columns\n",
    "df[\"loan_amnt\"].corr(df[\"funded_amnt\"])"
   ]
  },
  {
   "cell_type": "code",
   "execution_count": 237,
   "metadata": {},
   "outputs": [],
   "source": [
    "# Removing funded_amnt\n",
    "df = df.drop('funded_amnt', axis=1)"
   ]
  },
  {
   "cell_type": "code",
   "execution_count": 238,
   "metadata": {},
   "outputs": [
    {
     "data": {
      "text/plain": [
       "0.9400335348163549"
      ]
     },
     "execution_count": 238,
     "metadata": {},
     "output_type": "execute_result"
    }
   ],
   "source": [
    "# Even funded_amnt_inv is also hihgly correlated with load_amnt, removing funded_amnt_inv also\n",
    "df[\"loan_amnt\"].corr(df[\"funded_amnt_inv\"])\n"
   ]
  },
  {
   "cell_type": "code",
   "execution_count": 239,
   "metadata": {},
   "outputs": [],
   "source": [
    "df = df.drop('funded_amnt_inv', axis=1)"
   ]
  },
  {
   "cell_type": "code",
   "execution_count": 240,
   "metadata": {},
   "outputs": [],
   "source": [
    "# just to visualise the cleaned data in excel\n",
    "df.to_csv(\"cleaned.csv\")"
   ]
  },
  {
   "cell_type": "code",
   "execution_count": 241,
   "metadata": {},
   "outputs": [],
   "source": [
    "# removing unnecessary symbols and texts\n",
    "df['int_rate'] = df['int_rate'].str.replace('\\%','')"
   ]
  },
  {
   "cell_type": "code",
   "execution_count": 171,
   "metadata": {},
   "outputs": [],
   "source": [
    "df['revol_util'] = df['revol_util'].str.replace('\\%','').astype(float)"
   ]
  },
  {
   "cell_type": "code",
   "execution_count": 172,
   "metadata": {},
   "outputs": [],
   "source": [
    "df['term'] = df['term'].str.replace('months','')"
   ]
  },
  {
   "cell_type": "code",
   "execution_count": 173,
   "metadata": {},
   "outputs": [],
   "source": [
    "df['emp_length'] = df['emp_length'].str.replace('\\+ years','')\n",
    "df['emp_length'] = df['emp_length'].str.replace('years','')\n",
    "df['emp_length'] = df['emp_length'].str.replace('<','')\n",
    "df['emp_length'] = df['emp_length'].str.replace('year','')"
   ]
  },
  {
   "cell_type": "code",
   "execution_count": 174,
   "metadata": {},
   "outputs": [],
   "source": [
    "df[\"int_rate\"] = df[\"int_rate\"].astype(float)"
   ]
  },
  {
   "cell_type": "code",
   "execution_count": 175,
   "metadata": {},
   "outputs": [
    {
     "data": {
      "text/html": [
       "<div>\n",
       "<style scoped>\n",
       "    .dataframe tbody tr th:only-of-type {\n",
       "        vertical-align: middle;\n",
       "    }\n",
       "\n",
       "    .dataframe tbody tr th {\n",
       "        vertical-align: top;\n",
       "    }\n",
       "\n",
       "    .dataframe thead th {\n",
       "        text-align: right;\n",
       "    }\n",
       "</style>\n",
       "<table border=\"1\" class=\"dataframe\">\n",
       "  <thead>\n",
       "    <tr style=\"text-align: right;\">\n",
       "      <th></th>\n",
       "      <th>id</th>\n",
       "      <th>member_id</th>\n",
       "      <th>loan_amnt</th>\n",
       "      <th>term</th>\n",
       "      <th>int_rate</th>\n",
       "      <th>installment</th>\n",
       "      <th>grade</th>\n",
       "      <th>sub_grade</th>\n",
       "      <th>emp_length</th>\n",
       "      <th>home_ownership</th>\n",
       "      <th>...</th>\n",
       "      <th>issue_d</th>\n",
       "      <th>loan_status</th>\n",
       "      <th>purpose</th>\n",
       "      <th>addr_state</th>\n",
       "      <th>dti</th>\n",
       "      <th>earliest_cr_line</th>\n",
       "      <th>revol_bal</th>\n",
       "      <th>revol_util</th>\n",
       "      <th>last_pymnt_d</th>\n",
       "      <th>policy_code</th>\n",
       "    </tr>\n",
       "  </thead>\n",
       "  <tbody>\n",
       "    <tr>\n",
       "      <td>0</td>\n",
       "      <td>1077501</td>\n",
       "      <td>1296599</td>\n",
       "      <td>5000</td>\n",
       "      <td>36</td>\n",
       "      <td>10.65</td>\n",
       "      <td>162.87</td>\n",
       "      <td>B</td>\n",
       "      <td>B2</td>\n",
       "      <td>10</td>\n",
       "      <td>RENT</td>\n",
       "      <td>...</td>\n",
       "      <td>Dec-11</td>\n",
       "      <td>Fully Paid</td>\n",
       "      <td>credit_card</td>\n",
       "      <td>AZ</td>\n",
       "      <td>27.65</td>\n",
       "      <td>Jan-85</td>\n",
       "      <td>13648</td>\n",
       "      <td>83.7</td>\n",
       "      <td>Jan-15</td>\n",
       "      <td>1</td>\n",
       "    </tr>\n",
       "    <tr>\n",
       "      <td>1</td>\n",
       "      <td>1077430</td>\n",
       "      <td>1314167</td>\n",
       "      <td>2500</td>\n",
       "      <td>60</td>\n",
       "      <td>15.27</td>\n",
       "      <td>59.83</td>\n",
       "      <td>C</td>\n",
       "      <td>C4</td>\n",
       "      <td>1</td>\n",
       "      <td>RENT</td>\n",
       "      <td>...</td>\n",
       "      <td>Dec-11</td>\n",
       "      <td>Charged Off</td>\n",
       "      <td>car</td>\n",
       "      <td>GA</td>\n",
       "      <td>1.00</td>\n",
       "      <td>Apr-99</td>\n",
       "      <td>1687</td>\n",
       "      <td>9.4</td>\n",
       "      <td>Apr-13</td>\n",
       "      <td>1</td>\n",
       "    </tr>\n",
       "    <tr>\n",
       "      <td>2</td>\n",
       "      <td>1077175</td>\n",
       "      <td>1313524</td>\n",
       "      <td>2400</td>\n",
       "      <td>36</td>\n",
       "      <td>15.96</td>\n",
       "      <td>84.33</td>\n",
       "      <td>C</td>\n",
       "      <td>C5</td>\n",
       "      <td>10</td>\n",
       "      <td>RENT</td>\n",
       "      <td>...</td>\n",
       "      <td>Dec-11</td>\n",
       "      <td>Fully Paid</td>\n",
       "      <td>small_business</td>\n",
       "      <td>IL</td>\n",
       "      <td>8.72</td>\n",
       "      <td>Nov-01</td>\n",
       "      <td>2956</td>\n",
       "      <td>98.5</td>\n",
       "      <td>Jun-14</td>\n",
       "      <td>1</td>\n",
       "    </tr>\n",
       "    <tr>\n",
       "      <td>3</td>\n",
       "      <td>1076863</td>\n",
       "      <td>1277178</td>\n",
       "      <td>10000</td>\n",
       "      <td>36</td>\n",
       "      <td>13.49</td>\n",
       "      <td>339.31</td>\n",
       "      <td>C</td>\n",
       "      <td>C1</td>\n",
       "      <td>10</td>\n",
       "      <td>RENT</td>\n",
       "      <td>...</td>\n",
       "      <td>Dec-11</td>\n",
       "      <td>Fully Paid</td>\n",
       "      <td>other</td>\n",
       "      <td>CA</td>\n",
       "      <td>20.00</td>\n",
       "      <td>Feb-96</td>\n",
       "      <td>5598</td>\n",
       "      <td>21.0</td>\n",
       "      <td>Jan-15</td>\n",
       "      <td>1</td>\n",
       "    </tr>\n",
       "    <tr>\n",
       "      <td>4</td>\n",
       "      <td>1075358</td>\n",
       "      <td>1311748</td>\n",
       "      <td>3000</td>\n",
       "      <td>60</td>\n",
       "      <td>12.69</td>\n",
       "      <td>67.79</td>\n",
       "      <td>B</td>\n",
       "      <td>B5</td>\n",
       "      <td>1</td>\n",
       "      <td>RENT</td>\n",
       "      <td>...</td>\n",
       "      <td>Dec-11</td>\n",
       "      <td>Current</td>\n",
       "      <td>other</td>\n",
       "      <td>OR</td>\n",
       "      <td>17.94</td>\n",
       "      <td>Jan-96</td>\n",
       "      <td>27783</td>\n",
       "      <td>53.9</td>\n",
       "      <td>May-16</td>\n",
       "      <td>1</td>\n",
       "    </tr>\n",
       "    <tr>\n",
       "      <td>...</td>\n",
       "      <td>...</td>\n",
       "      <td>...</td>\n",
       "      <td>...</td>\n",
       "      <td>...</td>\n",
       "      <td>...</td>\n",
       "      <td>...</td>\n",
       "      <td>...</td>\n",
       "      <td>...</td>\n",
       "      <td>...</td>\n",
       "      <td>...</td>\n",
       "      <td>...</td>\n",
       "      <td>...</td>\n",
       "      <td>...</td>\n",
       "      <td>...</td>\n",
       "      <td>...</td>\n",
       "      <td>...</td>\n",
       "      <td>...</td>\n",
       "      <td>...</td>\n",
       "      <td>...</td>\n",
       "      <td>...</td>\n",
       "      <td>...</td>\n",
       "    </tr>\n",
       "    <tr>\n",
       "      <td>39712</td>\n",
       "      <td>92187</td>\n",
       "      <td>92174</td>\n",
       "      <td>2500</td>\n",
       "      <td>36</td>\n",
       "      <td>8.07</td>\n",
       "      <td>78.42</td>\n",
       "      <td>A</td>\n",
       "      <td>A4</td>\n",
       "      <td>4</td>\n",
       "      <td>MORTGAGE</td>\n",
       "      <td>...</td>\n",
       "      <td>Jul-07</td>\n",
       "      <td>Fully Paid</td>\n",
       "      <td>home_improvement</td>\n",
       "      <td>CO</td>\n",
       "      <td>11.33</td>\n",
       "      <td>Nov-90</td>\n",
       "      <td>7274</td>\n",
       "      <td>13.1</td>\n",
       "      <td>Jul-10</td>\n",
       "      <td>1</td>\n",
       "    </tr>\n",
       "    <tr>\n",
       "      <td>39713</td>\n",
       "      <td>90665</td>\n",
       "      <td>90607</td>\n",
       "      <td>8500</td>\n",
       "      <td>36</td>\n",
       "      <td>10.28</td>\n",
       "      <td>275.38</td>\n",
       "      <td>C</td>\n",
       "      <td>C1</td>\n",
       "      <td>3</td>\n",
       "      <td>RENT</td>\n",
       "      <td>...</td>\n",
       "      <td>Jul-07</td>\n",
       "      <td>Fully Paid</td>\n",
       "      <td>credit_card</td>\n",
       "      <td>NC</td>\n",
       "      <td>6.40</td>\n",
       "      <td>Dec-86</td>\n",
       "      <td>8847</td>\n",
       "      <td>26.9</td>\n",
       "      <td>Jul-10</td>\n",
       "      <td>1</td>\n",
       "    </tr>\n",
       "    <tr>\n",
       "      <td>39714</td>\n",
       "      <td>90395</td>\n",
       "      <td>90390</td>\n",
       "      <td>5000</td>\n",
       "      <td>36</td>\n",
       "      <td>8.07</td>\n",
       "      <td>156.84</td>\n",
       "      <td>A</td>\n",
       "      <td>A4</td>\n",
       "      <td>1</td>\n",
       "      <td>MORTGAGE</td>\n",
       "      <td>...</td>\n",
       "      <td>Jul-07</td>\n",
       "      <td>Fully Paid</td>\n",
       "      <td>debt_consolidation</td>\n",
       "      <td>MA</td>\n",
       "      <td>2.30</td>\n",
       "      <td>Oct-98</td>\n",
       "      <td>9698</td>\n",
       "      <td>19.4</td>\n",
       "      <td>Apr-08</td>\n",
       "      <td>1</td>\n",
       "    </tr>\n",
       "    <tr>\n",
       "      <td>39715</td>\n",
       "      <td>90376</td>\n",
       "      <td>89243</td>\n",
       "      <td>5000</td>\n",
       "      <td>36</td>\n",
       "      <td>7.43</td>\n",
       "      <td>155.38</td>\n",
       "      <td>A</td>\n",
       "      <td>A2</td>\n",
       "      <td>1</td>\n",
       "      <td>MORTGAGE</td>\n",
       "      <td>...</td>\n",
       "      <td>Jul-07</td>\n",
       "      <td>Fully Paid</td>\n",
       "      <td>other</td>\n",
       "      <td>MD</td>\n",
       "      <td>3.72</td>\n",
       "      <td>Nov-88</td>\n",
       "      <td>85607</td>\n",
       "      <td>0.7</td>\n",
       "      <td>Jan-08</td>\n",
       "      <td>1</td>\n",
       "    </tr>\n",
       "    <tr>\n",
       "      <td>39716</td>\n",
       "      <td>87023</td>\n",
       "      <td>86999</td>\n",
       "      <td>7500</td>\n",
       "      <td>36</td>\n",
       "      <td>13.75</td>\n",
       "      <td>255.43</td>\n",
       "      <td>E</td>\n",
       "      <td>E2</td>\n",
       "      <td>1</td>\n",
       "      <td>OWN</td>\n",
       "      <td>...</td>\n",
       "      <td>Jun-07</td>\n",
       "      <td>Fully Paid</td>\n",
       "      <td>debt_consolidation</td>\n",
       "      <td>MA</td>\n",
       "      <td>14.29</td>\n",
       "      <td>Oct-03</td>\n",
       "      <td>4175</td>\n",
       "      <td>51.5</td>\n",
       "      <td>Jun-10</td>\n",
       "      <td>1</td>\n",
       "    </tr>\n",
       "  </tbody>\n",
       "</table>\n",
       "<p>39717 rows × 22 columns</p>\n",
       "</div>"
      ],
      "text/plain": [
       "            id  member_id  loan_amnt  term  int_rate  installment grade  \\\n",
       "0      1077501    1296599       5000   36      10.65       162.87     B   \n",
       "1      1077430    1314167       2500   60      15.27        59.83     C   \n",
       "2      1077175    1313524       2400   36      15.96        84.33     C   \n",
       "3      1076863    1277178      10000   36      13.49       339.31     C   \n",
       "4      1075358    1311748       3000   60      12.69        67.79     B   \n",
       "...        ...        ...        ...   ...       ...          ...   ...   \n",
       "39712    92187      92174       2500   36       8.07        78.42     A   \n",
       "39713    90665      90607       8500   36      10.28       275.38     C   \n",
       "39714    90395      90390       5000   36       8.07       156.84     A   \n",
       "39715    90376      89243       5000   36       7.43       155.38     A   \n",
       "39716    87023      86999       7500   36      13.75       255.43     E   \n",
       "\n",
       "      sub_grade emp_length home_ownership  ...  issue_d  loan_status  \\\n",
       "0            B2         10           RENT  ...   Dec-11   Fully Paid   \n",
       "1            C4         1            RENT  ...   Dec-11  Charged Off   \n",
       "2            C5         10           RENT  ...   Dec-11   Fully Paid   \n",
       "3            C1         10           RENT  ...   Dec-11   Fully Paid   \n",
       "4            B5         1            RENT  ...   Dec-11      Current   \n",
       "...         ...        ...            ...  ...      ...          ...   \n",
       "39712        A4         4        MORTGAGE  ...   Jul-07   Fully Paid   \n",
       "39713        C1         3            RENT  ...   Jul-07   Fully Paid   \n",
       "39714        A4         1        MORTGAGE  ...   Jul-07   Fully Paid   \n",
       "39715        A2         1        MORTGAGE  ...   Jul-07   Fully Paid   \n",
       "39716        E2         1             OWN  ...   Jun-07   Fully Paid   \n",
       "\n",
       "                  purpose addr_state    dti earliest_cr_line  revol_bal  \\\n",
       "0             credit_card         AZ  27.65           Jan-85      13648   \n",
       "1                     car         GA   1.00           Apr-99       1687   \n",
       "2          small_business         IL   8.72           Nov-01       2956   \n",
       "3                   other         CA  20.00           Feb-96       5598   \n",
       "4                   other         OR  17.94           Jan-96      27783   \n",
       "...                   ...        ...    ...              ...        ...   \n",
       "39712    home_improvement         CO  11.33           Nov-90       7274   \n",
       "39713         credit_card         NC   6.40           Dec-86       8847   \n",
       "39714  debt_consolidation         MA   2.30           Oct-98       9698   \n",
       "39715               other         MD   3.72           Nov-88      85607   \n",
       "39716  debt_consolidation         MA  14.29           Oct-03       4175   \n",
       "\n",
       "      revol_util  last_pymnt_d  policy_code  \n",
       "0           83.7        Jan-15            1  \n",
       "1            9.4        Apr-13            1  \n",
       "2           98.5        Jun-14            1  \n",
       "3           21.0        Jan-15            1  \n",
       "4           53.9        May-16            1  \n",
       "...          ...           ...          ...  \n",
       "39712       13.1        Jul-10            1  \n",
       "39713       26.9        Jul-10            1  \n",
       "39714       19.4        Apr-08            1  \n",
       "39715        0.7        Jan-08            1  \n",
       "39716       51.5        Jun-10            1  \n",
       "\n",
       "[39717 rows x 22 columns]"
      ]
     },
     "execution_count": 175,
     "metadata": {},
     "output_type": "execute_result"
    }
   ],
   "source": [
    "df"
   ]
  },
  {
   "cell_type": "code",
   "execution_count": 176,
   "metadata": {},
   "outputs": [],
   "source": [
    "# I don't think int_rate and installment provide any distinct insight, so removing the installment\n",
    "#df = df.drop('installment', axis=1)"
   ]
  },
  {
   "cell_type": "code",
   "execution_count": 242,
   "metadata": {},
   "outputs": [],
   "source": [
    "# policy code is not required\n",
    "df = df.drop('policy_code', axis=1)"
   ]
  },
  {
   "cell_type": "code",
   "execution_count": 178,
   "metadata": {},
   "outputs": [
    {
     "data": {
      "text/plain": [
       "id                     0.00\n",
       "member_id              0.00\n",
       "loan_amnt              0.00\n",
       "term                   0.00\n",
       "int_rate               0.00\n",
       "grade                  0.00\n",
       "sub_grade              0.00\n",
       "emp_length             2.71\n",
       "home_ownership         0.00\n",
       "annual_inc             0.00\n",
       "verification_status    0.00\n",
       "issue_d                0.00\n",
       "loan_status            0.00\n",
       "purpose                0.00\n",
       "addr_state             0.00\n",
       "dti                    0.00\n",
       "earliest_cr_line       0.00\n",
       "revol_bal              0.00\n",
       "revol_util             0.13\n",
       "last_pymnt_d           0.18\n",
       "dtype: float64"
      ]
     },
     "execution_count": 178,
     "metadata": {},
     "output_type": "execute_result"
    }
   ],
   "source": [
    "round(100*(df.isnull().sum()/len(df.index)), 2)"
   ]
  },
  {
   "cell_type": "code",
   "execution_count": 180,
   "metadata": {},
   "outputs": [],
   "source": [
    "#df.to_csv(\"cleaned.csv\")"
   ]
  },
  {
   "cell_type": "code",
   "execution_count": 184,
   "metadata": {},
   "outputs": [
    {
     "data": {
      "text/plain": [
       "count    39717.000000\n",
       "mean     11219.443815\n",
       "std       7456.670694\n",
       "min        500.000000\n",
       "25%       5500.000000\n",
       "50%      10000.000000\n",
       "75%      15000.000000\n",
       "max      35000.000000\n",
       "Name: loan_amnt, dtype: float64"
      ]
     },
     "execution_count": 184,
     "metadata": {},
     "output_type": "execute_result"
    }
   ],
   "source": [
    "df.loan_amnt.describe()"
   ]
  },
  {
   "cell_type": "code",
   "execution_count": null,
   "metadata": {},
   "outputs": [],
   "source": []
  },
  {
   "cell_type": "code",
   "execution_count": null,
   "metadata": {},
   "outputs": [],
   "source": []
  }
 ],
 "metadata": {
  "kernelspec": {
   "display_name": "Python 3",
   "language": "python",
   "name": "python3"
  },
  "language_info": {
   "codemirror_mode": {
    "name": "ipython",
    "version": 3
   },
   "file_extension": ".py",
   "mimetype": "text/x-python",
   "name": "python",
   "nbconvert_exporter": "python",
   "pygments_lexer": "ipython3",
   "version": "3.7.4"
  }
 },
 "nbformat": 4,
 "nbformat_minor": 4
}
