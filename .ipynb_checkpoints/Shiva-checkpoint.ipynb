{
 "cells": [
  {
   "cell_type": "code",
   "execution_count": 3,
   "metadata": {},
   "outputs": [],
   "source": [
    "import pandas as pd\n",
    "import numpy as np\n",
    "import matplotlib.pyplot as plt\n",
    "import seaborn as sns\n",
    "pd.set_option('display.max_columns', 50)\n",
    "pd.set_option('display.max_rows', 50)"
   ]
  },
  {
   "cell_type": "code",
   "execution_count": 4,
   "metadata": {},
   "outputs": [
    {
     "name": "stderr",
     "output_type": "stream",
     "text": [
      "D:\\Programs\\Continuum\\anaconda3\\lib\\site-packages\\IPython\\core\\interactiveshell.py:3058: DtypeWarning: Columns (47) have mixed types. Specify dtype option on import or set low_memory=False.\n",
      "  interactivity=interactivity, compiler=compiler, result=result)\n"
     ]
    }
   ],
   "source": [
    "df = pd.read_csv(\"loan.csv\",  encoding = \"ISO-8859-1\")"
   ]
  },
  {
   "cell_type": "code",
   "execution_count": 5,
   "metadata": {},
   "outputs": [
    {
     "data": {
      "text/plain": [
       "id                              0.0\n",
       "member_id                       0.0\n",
       "loan_amnt                       0.0\n",
       "funded_amnt                     0.0\n",
       "funded_amnt_inv                 0.0\n",
       "                              ...  \n",
       "tax_liens                       0.1\n",
       "tot_hi_cred_lim               100.0\n",
       "total_bal_ex_mort             100.0\n",
       "total_bc_limit                100.0\n",
       "total_il_high_credit_limit    100.0\n",
       "Length: 111, dtype: float64"
      ]
     },
     "execution_count": 5,
     "metadata": {},
     "output_type": "execute_result"
    }
   ],
   "source": [
    "round(100*(df.isnull().sum()/len(df.index)), 2)"
   ]
  },
  {
   "cell_type": "code",
   "execution_count": 6,
   "metadata": {},
   "outputs": [],
   "source": [
    "# removing all columns where all elements are null (https://pandas.pydata.org/pandas-docs/stable/reference/api/pandas.DataFrame.dropna.html)\n",
    "df.dropna(axis=1, how='all', inplace=True)"
   ]
  },
  {
   "cell_type": "code",
   "execution_count": 7,
   "metadata": {},
   "outputs": [
    {
     "data": {
      "text/plain": [
       "id                          0.00\n",
       "member_id                   0.00\n",
       "loan_amnt                   0.00\n",
       "funded_amnt                 0.00\n",
       "funded_amnt_inv             0.00\n",
       "                            ... \n",
       "acc_now_delinq              0.00\n",
       "chargeoff_within_12_mths    0.14\n",
       "delinq_amnt                 0.00\n",
       "pub_rec_bankruptcies        1.75\n",
       "tax_liens                   0.10\n",
       "Length: 57, dtype: float64"
      ]
     },
     "execution_count": 7,
     "metadata": {},
     "output_type": "execute_result"
    }
   ],
   "source": [
    "round(100*(df.isnull().sum()/len(df.index)), 2)"
   ]
  },
  {
   "cell_type": "code",
   "execution_count": 8,
   "metadata": {},
   "outputs": [
    {
     "data": {
      "text/plain": [
       "0        False\n",
       "1        False\n",
       "2        False\n",
       "3        False\n",
       "4        False\n",
       "         ...  \n",
       "39712    False\n",
       "39713    False\n",
       "39714    False\n",
       "39715    False\n",
       "39716    False\n",
       "Length: 39717, dtype: bool"
      ]
     },
     "execution_count": 8,
     "metadata": {},
     "output_type": "execute_result"
    }
   ],
   "source": [
    "# rows having all missing values\n",
    "df.isnull().all(axis=1)"
   ]
  },
  {
   "cell_type": "code",
   "execution_count": 9,
   "metadata": {},
   "outputs": [],
   "source": [
    "df.dropna(how='all', inplace=True)"
   ]
  },
  {
   "cell_type": "code",
   "execution_count": 10,
   "metadata": {},
   "outputs": [
    {
     "data": {
      "text/plain": [
       "0        False\n",
       "1        False\n",
       "2        False\n",
       "3        False\n",
       "4        False\n",
       "         ...  \n",
       "39712    False\n",
       "39713    False\n",
       "39714    False\n",
       "39715    False\n",
       "39716    False\n",
       "Length: 39717, dtype: bool"
      ]
     },
     "execution_count": 10,
     "metadata": {},
     "output_type": "execute_result"
    }
   ],
   "source": [
    "df.isnull().all(axis=1)"
   ]
  },
  {
   "cell_type": "code",
   "execution_count": 11,
   "metadata": {},
   "outputs": [
    {
     "data": {
      "text/plain": [
       "id                            0.00\n",
       "member_id                     0.00\n",
       "loan_amnt                     0.00\n",
       "funded_amnt                   0.00\n",
       "funded_amnt_inv               0.32\n",
       "                             ...  \n",
       "acc_now_delinq              100.00\n",
       "chargeoff_within_12_mths     99.86\n",
       "delinq_amnt                 100.00\n",
       "pub_rec_bankruptcies         94.01\n",
       "tax_liens                    99.90\n",
       "Length: 57, dtype: float64"
      ]
     },
     "execution_count": 11,
     "metadata": {},
     "output_type": "execute_result"
    }
   ],
   "source": [
    "# checking the percetage of zeros in each column\n",
    "round(100*(df.eq(0).sum()/len(df.index)), 2)"
   ]
  },
  {
   "cell_type": "code",
   "execution_count": 12,
   "metadata": {},
   "outputs": [],
   "source": [
    "# removing the columns that have majorly zero\n",
    "df = df.drop('tax_liens', axis=1)\n",
    "df = df.drop('delinq_amnt', axis=1)\n",
    "df = df.drop('pub_rec_bankruptcies', axis=1)\n",
    "df = df.drop('chargeoff_within_12_mths', axis = 1)\n",
    "df = df.drop('acc_now_delinq', axis = 1)\n",
    "df = df.drop('collections_12_mths_ex_med', axis = 1)\n",
    "df = df.drop('collection_recovery_fee', axis = 1)\n",
    "df = df.drop('recoveries', axis = 1)\n",
    "df = df.drop('total_rec_late_fee', axis = 1)\n",
    "df = df.drop('out_prncp_inv', axis = 1)\n",
    "df = df.drop('out_prncp', axis = 1)\n",
    "df = df.drop('pub_rec', axis = 1)\n",
    "df = df.drop('delinq_2yrs', axis = 1)"
   ]
  },
  {
   "cell_type": "code",
   "execution_count": 13,
   "metadata": {},
   "outputs": [
    {
     "data": {
      "text/plain": [
       "id                         0.00\n",
       "member_id                  0.00\n",
       "loan_amnt                  0.00\n",
       "funded_amnt                0.00\n",
       "funded_amnt_inv            0.32\n",
       "term                       0.00\n",
       "int_rate                   0.00\n",
       "installment                0.00\n",
       "grade                      0.00\n",
       "sub_grade                  0.00\n",
       "emp_title                  0.00\n",
       "emp_length                 0.00\n",
       "home_ownership             0.00\n",
       "annual_inc                 0.00\n",
       "verification_status        0.00\n",
       "issue_d                    0.00\n",
       "loan_status                0.00\n",
       "pymnt_plan                 0.00\n",
       "url                        0.00\n",
       "desc                       0.00\n",
       "purpose                    0.00\n",
       "title                      0.00\n",
       "zip_code                   0.00\n",
       "addr_state                 0.00\n",
       "dti                        0.46\n",
       "earliest_cr_line           0.00\n",
       "inq_last_6mths            48.59\n",
       "mths_since_last_delinq     1.12\n",
       "mths_since_last_record     1.69\n",
       "open_acc                   0.00\n",
       "revol_bal                  2.50\n",
       "revol_util                 0.00\n",
       "total_acc                  0.00\n",
       "initial_list_status        0.00\n",
       "total_pymnt                0.04\n",
       "total_pymnt_inv            0.42\n",
       "total_rec_prncp            0.19\n",
       "total_rec_int              0.18\n",
       "last_pymnt_d               0.00\n",
       "last_pymnt_amnt            0.19\n",
       "next_pymnt_d               0.00\n",
       "last_credit_pull_d         0.00\n",
       "policy_code                0.00\n",
       "application_type           0.00\n",
       "dtype: float64"
      ]
     },
     "execution_count": 13,
     "metadata": {},
     "output_type": "execute_result"
    }
   ],
   "source": [
    "round(100*(df.eq(0).sum()/len(df.index)), 2)"
   ]
  },
  {
   "cell_type": "code",
   "execution_count": 14,
   "metadata": {},
   "outputs": [],
   "source": [
    "# removing columns that seem unnecessary\n",
    "df = df.drop('emp_title', axis=1)\n",
    "df = df.drop('url', axis=1)\n",
    "df = df.drop('desc', axis=1)\n",
    "df = df.drop('title', axis = 1)\n",
    "df = df.drop('zip_code', axis = 1)\n",
    "\n",
    "# reconsider\n",
    "#df = df.drop('inq_last_6mths', axis = 1)\n",
    "\n",
    "df = df.drop('mths_since_last_delinq', axis = 1)\n",
    "df = df.drop('mths_since_last_record', axis = 1)\n",
    "df = df.drop('initial_list_status', axis = 1)\n",
    "df = df.drop('open_acc', axis=1)\n",
    "df = df.drop('total_acc', axis=1)\n",
    "df = df.drop('total_pymnt', axis=1)\n",
    "df = df.drop('total_rec_prncp', axis=1)\n",
    "df = df.drop('total_rec_int', axis=1)\n",
    "df = df.drop('last_pymnt_amnt', axis=1)\n",
    "df = df.drop('last_credit_pull_d', axis=1)\n",
    "df = df.drop('total_pymnt_inv', axis=1)"
   ]
  },
  {
   "cell_type": "code",
   "execution_count": null,
   "metadata": {},
   "outputs": [],
   "source": [
    "round(100*(df.eq(0).sum()/len(df.index)), 2)"
   ]
  },
  {
   "cell_type": "code",
   "execution_count": null,
   "metadata": {},
   "outputs": [],
   "source": [
    "round(100*(df.isnull().sum()/len(df.index)), 2)"
   ]
  },
  {
   "cell_type": "code",
   "execution_count": null,
   "metadata": {},
   "outputs": [],
   "source": [
    "# next_pymnt_d has more than 97% null values, removing the column\n",
    "df = df.drop('next_pymnt_d', axis=1)"
   ]
  },
  {
   "cell_type": "code",
   "execution_count": null,
   "metadata": {},
   "outputs": [],
   "source": [
    "# this column has same value for the rows, doesn't add any value to our analysis\n",
    "df = df.drop('pymnt_plan', axis=1)"
   ]
  },
  {
   "cell_type": "code",
   "execution_count": null,
   "metadata": {},
   "outputs": [],
   "source": [
    "# this column has same value for the rows, doesn't add any value to our analysis\n",
    "df = df.drop('application_type', axis=1)"
   ]
  },
  {
   "cell_type": "code",
   "execution_count": null,
   "metadata": {},
   "outputs": [],
   "source": [
    "# Columns loan_amnt and fund_amnt seem to have similar set of values. It it's highly correlated, we can remove one of the columns\n",
    "df[\"loan_amnt\"].corr(df[\"funded_amnt\"])"
   ]
  },
  {
   "cell_type": "code",
   "execution_count": null,
   "metadata": {},
   "outputs": [],
   "source": [
    "# Removing funded_amnt\n",
    "df = df.drop('funded_amnt', axis=1)"
   ]
  },
  {
   "cell_type": "code",
   "execution_count": null,
   "metadata": {},
   "outputs": [],
   "source": [
    "# Even funded_amnt_inv is also hihgly correlated with load_amnt, removing funded_amnt_inv also\n",
    "df[\"loan_amnt\"].corr(df[\"funded_amnt_inv\"])\n"
   ]
  },
  {
   "cell_type": "code",
   "execution_count": null,
   "metadata": {},
   "outputs": [],
   "source": [
    "df = df.drop('funded_amnt_inv', axis=1)"
   ]
  },
  {
   "cell_type": "code",
   "execution_count": null,
   "metadata": {},
   "outputs": [],
   "source": [
    "# just to visualise the cleaned data in excel\n",
    "df.to_csv(\"cleaned.csv\")"
   ]
  },
  {
   "cell_type": "code",
   "execution_count": null,
   "metadata": {},
   "outputs": [],
   "source": [
    "# removing unnecessary symbols and texts\n",
    "df['int_rate'] = df['int_rate'].str.replace('\\%','')"
   ]
  },
  {
   "cell_type": "code",
   "execution_count": null,
   "metadata": {},
   "outputs": [],
   "source": [
    "df['revol_util'] = df['revol_util'].str.replace('\\%','').astype(float)"
   ]
  },
  {
   "cell_type": "code",
   "execution_count": null,
   "metadata": {},
   "outputs": [],
   "source": [
    "df['term'] = df['term'].str.replace('months','')"
   ]
  },
  {
   "cell_type": "code",
   "execution_count": null,
   "metadata": {},
   "outputs": [],
   "source": [
    "df['emp_length'] = df['emp_length'].str.replace('\\+ years','')\n",
    "df['emp_length'] = df['emp_length'].str.replace('years','')\n",
    "df['emp_length'] = df['emp_length'].str.replace('<','')\n",
    "df['emp_length'] = df['emp_length'].str.replace('year','')"
   ]
  },
  {
   "cell_type": "code",
   "execution_count": null,
   "metadata": {},
   "outputs": [],
   "source": [
    "df[\"int_rate\"] = df[\"int_rate\"].astype(float)"
   ]
  },
  {
   "cell_type": "code",
   "execution_count": null,
   "metadata": {},
   "outputs": [],
   "source": [
    "df[\"issue_d\"]"
   ]
  },
  {
   "cell_type": "code",
   "execution_count": null,
   "metadata": {},
   "outputs": [],
   "source": [
    "# I don't think int_rate and installment provide any distinct insight, so removing the installment\n",
    "#df = df.drop('installment', axis=1)"
   ]
  },
  {
   "cell_type": "code",
   "execution_count": null,
   "metadata": {},
   "outputs": [],
   "source": [
    "# policy code is not required\n",
    "df = df.drop('policy_code', axis=1)"
   ]
  },
  {
   "cell_type": "code",
   "execution_count": null,
   "metadata": {},
   "outputs": [],
   "source": [
    "df['term'] = df['term'].str.replace('months','')"
   ]
  },
  {
   "cell_type": "code",
   "execution_count": null,
   "metadata": {},
   "outputs": [],
   "source": [
    "df['issue_d'] = pd.to_datetime(df['issue_d'], format='%b-%y')"
   ]
  },
  {
   "cell_type": "code",
   "execution_count": null,
   "metadata": {},
   "outputs": [],
   "source": [
    "df['earliest_cr_line'] = pd.to_datetime(df['earliest_cr_line'], format='%b-%y')"
   ]
  },
  {
   "cell_type": "code",
   "execution_count": null,
   "metadata": {},
   "outputs": [],
   "source": [
    "df['last_pymnt_d'] = pd.to_datetime(df['last_pymnt_d'], format='%b-%y')"
   ]
  },
  {
   "cell_type": "code",
   "execution_count": null,
   "metadata": {},
   "outputs": [],
   "source": [
    "df"
   ]
  },
  {
   "cell_type": "code",
   "execution_count": null,
   "metadata": {},
   "outputs": [],
   "source": [
    "#df.to_csv(\"cleaned.csv\")"
   ]
  },
  {
   "cell_type": "markdown",
   "metadata": {},
   "source": [
    "## Univariate Analysis"
   ]
  },
  {
   "cell_type": "markdown",
   "metadata": {},
   "source": [
    "### loan_amnt"
   ]
  },
  {
   "cell_type": "code",
   "execution_count": null,
   "metadata": {},
   "outputs": [],
   "source": [
    "df.loan_amnt.describe()"
   ]
  },
  {
   "cell_type": "code",
   "execution_count": null,
   "metadata": {},
   "outputs": [],
   "source": [
    "df.loan_amnt.describe(percentiles=[.10, .20, .30, .40, .50, .60, .70, .80, .90])"
   ]
  },
  {
   "cell_type": "code",
   "execution_count": null,
   "metadata": {},
   "outputs": [],
   "source": [
    "# checking the distribution of loan_amnt\n",
    "sns.boxplot(y=df.loan_amnt)\n",
    "plt.show()"
   ]
  },
  {
   "cell_type": "code",
   "execution_count": null,
   "metadata": {},
   "outputs": [],
   "source": [
    "# A new derived metric to make the analysis simpler\n",
    "df['loan_amnt_bucket'] = pd.cut(df['loan_amnt'], [x for x in range(0, 36000, 5000)], labels=[str(x)+'-'+str(x+5)+'K' for x in range (0, 35, 5)])"
   ]
  },
  {
   "cell_type": "code",
   "execution_count": null,
   "metadata": {},
   "outputs": [],
   "source": [
    "# From this bar graph, we can see that most of the loan amounts fall in 5-10K range\n",
    "sns.countplot(df.loan_amnt_bucket, order = df.loan_amnt_bucket.value_counts().index)"
   ]
  },
  {
   "cell_type": "code",
   "execution_count": null,
   "metadata": {},
   "outputs": [],
   "source": [
    "#from the graph, it looks like relatively higher number of loans were issued in rounded figures such as 5000, 10000, 12000, 15000, 20000, 25000, 30000 and 35000\n",
    "# also, don't see outliers, mean and median are comparable.\n",
    "sns.distplot(df.loan_amnt)\n",
    "plt.show()"
   ]
  },
  {
   "cell_type": "code",
   "execution_count": null,
   "metadata": {},
   "outputs": [],
   "source": [
    "# almost 75% of the loans were below 15,000; As we have observed earlier, most of the loans (32%) are fall in the range 5-10K\n",
    "df.groupby('loan_amnt_bucket')['id'].count() * 100/  len(df.index)"
   ]
  },
  {
   "cell_type": "markdown",
   "metadata": {},
   "source": [
    "### term"
   ]
  },
  {
   "cell_type": "code",
   "execution_count": null,
   "metadata": {},
   "outputs": [],
   "source": [
    "# among all loans, 73.25% of them were short term\n",
    "df.groupby('term')['id'].count() * 100 / len(df.index)"
   ]
  },
  {
   "cell_type": "code",
   "execution_count": null,
   "metadata": {},
   "outputs": [],
   "source": [
    "# bar chart with percentage\n",
    "ax = sns.barplot(x=\"term\", y=\"term\", data=df, estimator=lambda x: len(x) / len(df) * 100)\n",
    "ax.set(ylabel=\"Percent\")"
   ]
  },
  {
   "cell_type": "code",
   "execution_count": null,
   "metadata": {},
   "outputs": [],
   "source": [
    "# bar chart with count\n",
    "sns.countplot(df.term, order = df.term.value_counts().index)"
   ]
  },
  {
   "cell_type": "markdown",
   "metadata": {},
   "source": [
    "### int_rate"
   ]
  },
  {
   "cell_type": "code",
   "execution_count": null,
   "metadata": {},
   "outputs": [],
   "source": [
    "df.int_rate.describe(percentiles=[.1,.2,.3,.4,.5,.6,.7,.8,.9,.99])"
   ]
  },
  {
   "cell_type": "code",
   "execution_count": null,
   "metadata": {},
   "outputs": [],
   "source": [
    "# Creating buckets for interests\n",
    "df['int_rate_bucket'] = pd.cut(df['int_rate'], [x for x in range(5, 30, 5)], labels=[str(x)+'-'+str(x+5)+'%' for x in range (5, 25, 5)])"
   ]
  },
  {
   "cell_type": "code",
   "execution_count": null,
   "metadata": {},
   "outputs": [],
   "source": [
    "df.groupby('int_rate_bucket')['id'].count()"
   ]
  },
  {
   "cell_type": "code",
   "execution_count": null,
   "metadata": {},
   "outputs": [],
   "source": [
    "# from the below result, it can be seen that 10-15% is the interest rates of most of the loans\n",
    "df.groupby('int_rate_bucket')['id'].count() * 100/  len(df.index)"
   ]
  },
  {
   "cell_type": "code",
   "execution_count": null,
   "metadata": {},
   "outputs": [],
   "source": [
    "# bar chart\n",
    "(df.groupby('int_rate_bucket')['id'].count() * 100/  len(df.index)).plot.bar()"
   ]
  },
  {
   "cell_type": "code",
   "execution_count": null,
   "metadata": {},
   "outputs": [],
   "source": [
    "# bar chart\n",
    "sns.countplot(df.int_rate_bucket, order = df.int_rate_bucket.value_counts().index)"
   ]
  },
  {
   "cell_type": "code",
   "execution_count": null,
   "metadata": {},
   "outputs": [],
   "source": [
    "sns.distplot(df.int_rate)\n",
    "plt.show()"
   ]
  },
  {
   "cell_type": "markdown",
   "metadata": {},
   "source": [
    "### grade"
   ]
  },
  {
   "cell_type": "code",
   "execution_count": null,
   "metadata": {},
   "outputs": [],
   "source": [
    "df.groupby('grade')['id'].count() * 100/  len(df.index)"
   ]
  },
  {
   "cell_type": "code",
   "execution_count": null,
   "metadata": {},
   "outputs": [],
   "source": [
    "# bar chart for the percentage\n",
    "(df.groupby('grade')['id'].count() * 100/  len(df.index)).plot.bar()"
   ]
  },
  {
   "cell_type": "code",
   "execution_count": null,
   "metadata": {},
   "outputs": [],
   "source": [
    "# Top 3 loan grades are B, A and C\n",
    "sns.countplot(df.grade, order = df.grade.value_counts().index)"
   ]
  },
  {
   "cell_type": "markdown",
   "metadata": {},
   "source": [
    "### emp_length"
   ]
  },
  {
   "cell_type": "code",
   "execution_count": null,
   "metadata": {},
   "outputs": [],
   "source": [
    "# Need to correct two versions of 1\n",
    "df['emp_length'] = df['emp_length'].str.strip()\n",
    "df.groupby('emp_length')['id'].count() * 100/  len(df.index)"
   ]
  },
  {
   "cell_type": "code",
   "execution_count": null,
   "metadata": {},
   "outputs": [],
   "source": [
    "# bar chart for the same statistics\n",
    "(df.groupby('emp_length')['id'].count() * 100/  len(df.index)).plot.bar()"
   ]
  },
  {
   "cell_type": "code",
   "execution_count": null,
   "metadata": {},
   "outputs": [],
   "source": [
    "# most of the loans are issued to people with 10 or more years of experience\n",
    "sns.countplot(df.emp_length, order = df.emp_length.value_counts().index)"
   ]
  },
  {
   "cell_type": "code",
   "execution_count": null,
   "metadata": {},
   "outputs": [],
   "source": [
    "df.groupby('home_ownership').size() * 100 / len(df.index)"
   ]
  },
  {
   "cell_type": "code",
   "execution_count": null,
   "metadata": {},
   "outputs": [],
   "source": [
    "(df.groupby('home_ownership').size() * 100 / len(df.index)).sort_values(ascending = False).plot.bar()"
   ]
  },
  {
   "cell_type": "code",
   "execution_count": null,
   "metadata": {},
   "outputs": [],
   "source": [
    "# from the plot, it is clear that the most of the people who have taken loans have thier home on rent or on mortgage\n",
    "sns.countplot(df.home_ownership, order = df.home_ownership.value_counts().index)"
   ]
  },
  {
   "cell_type": "markdown",
   "metadata": {},
   "source": [
    "### annual_inc"
   ]
  },
  {
   "cell_type": "code",
   "execution_count": null,
   "metadata": {},
   "outputs": [],
   "source": [
    "sns.distplot(df.annual_inc)\n",
    "plt.show()"
   ]
  },
  {
   "cell_type": "code",
   "execution_count": null,
   "metadata": {},
   "outputs": [],
   "source": [
    "df.annual_inc.describe(percentiles=[.1,.2,.25,.3,.4,.5,.6,.7,.75,.8, .85, .9,.95, .98, .99])"
   ]
  },
  {
   "cell_type": "code",
   "execution_count": null,
   "metadata": {},
   "outputs": [],
   "source": [
    "sns.boxplot(y=df.annual_inc)\n",
    "plt.show()"
   ]
  },
  {
   "cell_type": "code",
   "execution_count": null,
   "metadata": {},
   "outputs": [],
   "source": [
    "sns.boxplot(y=df.annual_inc,  showfliers=False)\n",
    "plt.show()\n",
    "# from the below plot, it is clear that 75% people have income less than 80,000$"
   ]
  },
  {
   "cell_type": "code",
   "execution_count": null,
   "metadata": {},
   "outputs": [],
   "source": [
    "# distribution of people with low income (<100,000$)\n",
    "sns.distplot(df[df.annual_inc < 1e+05].annual_inc)"
   ]
  },
  {
   "cell_type": "code",
   "execution_count": null,
   "metadata": {},
   "outputs": [],
   "source": [
    "# distribution of people with medium income (>= 100,000$ to < 500,000$)\n",
    "sns.distplot(df[(df.annual_inc >= 1.000000e+05) & (df.annual_inc < 5e+05)].annual_inc)"
   ]
  },
  {
   "cell_type": "code",
   "execution_count": null,
   "metadata": {},
   "outputs": [],
   "source": [
    "# distribution of people with high income, >= 500,000$\n",
    "sns.distplot(df[df.annual_inc >= 5e+05].annual_inc)"
   ]
  },
  {
   "cell_type": "code",
   "execution_count": null,
   "metadata": {},
   "outputs": [],
   "source": [
    "# binning the annual income\n",
    "df['annual_inc_bucket'] = pd.cut(df['annual_inc'], [0, 100000, 500000, 6000000], labels=[\"low\", \"medium\", \"high\"])"
   ]
  },
  {
   "cell_type": "code",
   "execution_count": null,
   "metadata": {},
   "outputs": [],
   "source": [
    "# from the bar chart, we can see that almost 85% of the people have income less than or equal to 100,000\n",
    "(df.groupby('annual_inc_bucket')['id'].count() * 100/ len(df)).plot.bar()"
   ]
  },
  {
   "cell_type": "markdown",
   "metadata": {},
   "source": [
    "### verification_status"
   ]
  },
  {
   "cell_type": "code",
   "execution_count": null,
   "metadata": {},
   "outputs": [],
   "source": [
    "sns.countplot(df.verification_status, order = df.verification_status.value_counts().index)"
   ]
  },
  {
   "cell_type": "code",
   "execution_count": null,
   "metadata": {},
   "outputs": [],
   "source": [
    "# From the below figures, it is clear that almost 42.6% people have 'Not Verified' status\n",
    "df.groupby('verification_status').size() * 100 / len(df.index)"
   ]
  },
  {
   "cell_type": "code",
   "execution_count": null,
   "metadata": {},
   "outputs": [],
   "source": [
    "# in percentages\n",
    "(df.groupby('verification_status').size() * 100 / len(df.index)).sort_values(ascending=False).plot.bar()"
   ]
  },
  {
   "cell_type": "markdown",
   "metadata": {},
   "source": [
    "### issue_d\n"
   ]
  },
  {
   "cell_type": "code",
   "execution_count": null,
   "metadata": {},
   "outputs": [],
   "source": [
    "df['issue_year'] = df['issue_d'].dt.year"
   ]
  },
  {
   "cell_type": "code",
   "execution_count": null,
   "metadata": {},
   "outputs": [],
   "source": [
    "# from the bar chart, we can see that max number of loans are issued in 2011. \n",
    "# The number was increasing rapidly from the year 2007\n",
    "(df.groupby('issue_year')['id'].count()).sort_values(ascending = False).plot.bar()"
   ]
  },
  {
   "cell_type": "markdown",
   "metadata": {},
   "source": [
    "### loan_status"
   ]
  },
  {
   "cell_type": "code",
   "execution_count": null,
   "metadata": {},
   "outputs": [],
   "source": [
    "# from the chart, we can see that major portion of the loans issued were repaid fully (more than 80%).\n",
    "(df.groupby('loan_status')['id'].count() * 100 / len(df)).sort_values(ascending=False).plot.bar()"
   ]
  },
  {
   "cell_type": "code",
   "execution_count": null,
   "metadata": {},
   "outputs": [],
   "source": [
    "# almost 14.16% loans were defaulted.\n",
    "df.groupby('loan_status')['id'].count() * 100 / len(df)"
   ]
  },
  {
   "cell_type": "markdown",
   "metadata": {},
   "source": [
    "### Comparing status with other categories"
   ]
  },
  {
   "cell_type": "markdown",
   "metadata": {},
   "source": [
    "#### loan_status vs loan_amnt_bucket"
   ]
  },
  {
   "cell_type": "code",
   "execution_count": null,
   "metadata": {},
   "outputs": [],
   "source": [
    "df_withoutCurrent = df[~(df.loan_status == \"Current\")]"
   ]
  },
  {
   "cell_type": "code",
   "execution_count": null,
   "metadata": {},
   "outputs": [],
   "source": [
    "grouped = df_withoutCurrent.groupby(['loan_status', 'loan_amnt_bucket'])['loan_amnt_bucket'].count()"
   ]
  },
  {
   "cell_type": "code",
   "execution_count": null,
   "metadata": {},
   "outputs": [],
   "source": [
    "gp_unstacked = grouped.unstack(level=-1)\n",
    "gp_unstacked"
   ]
  },
  {
   "cell_type": "code",
   "execution_count": null,
   "metadata": {},
   "outputs": [],
   "source": [
    "# total number in each loan_amnt_bucket to find the percentage\n",
    "grouped_loan_amnt = df_withoutCurrent.groupby('loan_amnt_bucket')['loan_amnt_bucket'].count()\n",
    "grouped_loan_amnt"
   ]
  },
  {
   "cell_type": "code",
   "execution_count": null,
   "metadata": {},
   "outputs": [],
   "source": [
    "# Percentage of Charged Off in each loan_amnt_bucket\n",
    "perc = gp_unstacked * 100 / grouped_loan_amnt"
   ]
  },
  {
   "cell_type": "code",
   "execution_count": null,
   "metadata": {},
   "outputs": [],
   "source": [
    "# we are interested only in Charged Off values\n",
    "perc.loc[\"Charged Off\"].sort_values(ascending = False).plot.bar()\n",
    "\n",
    "# from this plot, it is clear that higher the loan amount higher the risk of loan getting defaulted.\n",
    "# Also, risk of default is gradually increasing as the loan amount increases.\n",
    "# This indicates that bank has to reduce giving big loans as it carry high risk.\n",
    "# This could be one of the driver variables."
   ]
  },
  {
   "cell_type": "markdown",
   "metadata": {},
   "source": [
    "### loan_status vs loan_amnt_bucket"
   ]
  },
  {
   "cell_type": "code",
   "execution_count": 2,
   "metadata": {},
   "outputs": [
    {
     "ename": "NameError",
     "evalue": "name 'df_withoutCurrent' is not defined",
     "output_type": "error",
     "traceback": [
      "\u001b[1;31m---------------------------------------------------------------------------\u001b[0m",
      "\u001b[1;31mNameError\u001b[0m                                 Traceback (most recent call last)",
      "\u001b[1;32m<ipython-input-2-c538f9cae58c>\u001b[0m in \u001b[0;36m<module>\u001b[1;34m\u001b[0m\n\u001b[1;32m----> 1\u001b[1;33m \u001b[0mgrouped_by_ls_irb\u001b[0m \u001b[1;33m=\u001b[0m \u001b[0mdf_withoutCurrent\u001b[0m\u001b[1;33m.\u001b[0m\u001b[0mgroupby\u001b[0m\u001b[1;33m(\u001b[0m\u001b[1;33m[\u001b[0m\u001b[1;34m'loan_status'\u001b[0m\u001b[1;33m,\u001b[0m \u001b[1;34m'int_rate_bucket'\u001b[0m\u001b[1;33m]\u001b[0m\u001b[1;33m)\u001b[0m\u001b[1;33m[\u001b[0m\u001b[1;34m'int_rate_bucket'\u001b[0m\u001b[1;33m]\u001b[0m\u001b[1;33m.\u001b[0m\u001b[0mcount\u001b[0m\u001b[1;33m(\u001b[0m\u001b[1;33m)\u001b[0m\u001b[1;33m\u001b[0m\u001b[1;33m\u001b[0m\u001b[0m\n\u001b[0m",
      "\u001b[1;31mNameError\u001b[0m: name 'df_withoutCurrent' is not defined"
     ]
    }
   ],
   "source": [
    "grouped_by_ls_irb = df_withoutCurrent.groupby(['loan_status', 'int_rate_bucket'])['int_rate_bucket'].count()"
   ]
  }
 ],
 "metadata": {
  "kernelspec": {
   "display_name": "Python 3",
   "language": "python",
   "name": "python3"
  },
  "language_info": {
   "codemirror_mode": {
    "name": "ipython",
    "version": 3
   },
   "file_extension": ".py",
   "mimetype": "text/x-python",
   "name": "python",
   "nbconvert_exporter": "python",
   "pygments_lexer": "ipython3",
   "version": "3.7.4"
  }
 },
 "nbformat": 4,
 "nbformat_minor": 4
}
